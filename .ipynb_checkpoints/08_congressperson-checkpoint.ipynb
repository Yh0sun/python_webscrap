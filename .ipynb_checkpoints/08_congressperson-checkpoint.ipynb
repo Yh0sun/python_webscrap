{
 "cells": [
  {
   "cell_type": "markdown",
   "metadata": {
    "collapsed": true
   },
   "source": [
    "### 국회의원 현황정보 수집/분석/시각화/저장\n",
    "* 이름과 id추출\n",
    "* 상세페이지 정보 추출(json으로 저장)\n",
    "* 상세정보를 dataframe으로 변환\n",
    "* 시각화(막대그래프, 히스토그램, 파이챠트, 히트맵\n",
    "* table로 저장"
   ]
  },
  {
   "cell_type": "code",
   "execution_count": 1,
   "metadata": {},
   "outputs": [],
   "source": [
    "import requests\n",
    "from bs4 import BeautifulSoup\n",
    "import re"
   ]
  },
  {
   "cell_type": "code",
   "execution_count": 13,
   "metadata": {
    "pycharm": {
     "name": "#%%\n"
    }
   },
   "outputs": [
    {
     "name": "stdout",
     "output_type": "stream",
     "text": [
      "200\n",
      "295\n",
      "295\n",
      "['9771230', '9771142', '9771174', '9771233', '9771283', '9770933', '9771116', '9771276', '9771168', '9771007', '9771109', '9771180', '9770931', '9771224', '9771165', '9770679', '9771108', '9770977', '9771259', '9770998', '9770927', '9771258', '9770712', '9771152', '9771164', '9771181', '9770719', '9770997', '9771136', '9770723', '9771120', '9771173', '9770941', '9770984', '9771285', '9771268', '9770725', '9770527', '9771024', '9771195', '9770985', '9771208', '9771089', '9771210', '9771220', '9771144', '9771169', '9771111', '9771225', '9770975', '9770981', '9770934', '9771249', '9771186', '9771147', '9771127', '9771214', '9771206', '9771171', '9771288', '9771023', '9771090', '9771009', '9771192', '9770982', '9770986', '9770741', '9771237', '9770742', '9770991', '9771223', '9771270', '9771216', '9771134', '9771228', '9770752', '9770753', '9770755', '9771141', '9771274', '9771091', '9771187', '9771204', '9771175', '9771159', '9770764', '9770911', '9771248', '9770767', '9770768', '9770770', '9770090', '9771193', '9771163', '9771107', '9770944', '9771135', '9771162', '9771030', '9770774', '9770929', '9770950', '9770995', '9770932', '9771125', '9770963', '9771226', '9770779', '9771148', '9771277', '9771128', '9771137', '9770980', '9770356', '9771218', '9771166', '9771133', '9771092', '9770784', '9771176', '9771236', '9771254', '9770786', '9771008', '9771217', '9770999', '9771093', '9771001', '9770996', '9771094', '9770967', '9771058', '9771238', '9770968', '9771209', '9771246', '9771219', '9771257', '9770869', '9770587', '9770372', '9771132', '9771017', '9771273', '9771143', '9771178', '9771287', '9771271', '9771155', '9771010', '9771202', '9771113', '9771172', '9771037', '9771261', '9770871', '9770872', '9771038', '9771126', '9771121', '9770966', '9771199', '9770912', '9771266', '9771118', '9770808', '9771227', '9771263', '9770598', '9771153', '9770811', '9771170', '9771221', '9770812', '9771239', '9771212', '9771240', '9771032', '9770876', '9770813', '9770905', '9771198', '9771232', '9771260', '9771028', '9770602', '9771154', '9770414', '9771207', '9771098', '9771151', '9771185', '9771284', '9771269', '9771003', '9771251', '9771255', '9771158', '9771115', '9771184', '9771015', '9770826', '9771213', '9771278', '9770878', '9771201', '9771060', '9771205', '9770914', '9771242', '9771138', '9770835', '9771002', '9771190', '9771280', '9770836', '9771129', '9770837', '9771157', '9770839', '9771177', '9771041', '9771000', '9771203', '9771110', '9770954', '9771160', '9771275', '9771139', '9771272', '9770951', '9771253', '9770846', '9770926', '9771245', '9771140', '9770881', '9771012', '9771150', '9771103', '9771006', '9771189', '9771114', '9771068', '9771122', '9771264', '9771229', '9770450', '9771247', '9771243', '9770973', '9771156', '9770990', '9770456', '9771262', '9771244', '9771235', '9771215', '9770883', '9771250', '9770852', '9771117', '9771112', '9771282', '9771119', '9771252', '9771279', '9770952', '9771188', '9771194', '9771231', '9771267', '9770962', '9771286', '9771234', '9770858', '9771197', '9771241', '9771211', '9770859', '9771182', '9771196', '9771256', '9771149', '9771179', '9770886', '9771146', '9771167', '9770676', '9770864', '9771183', '9771145', '9771130', '9771161', '9770936']\n"
     ]
    }
   ],
   "source": [
    "url = 'https://assembly.go.kr/assm/memact/congressman/memCond/memCondListAjax.do'\n",
    "req_param_dict ={\n",
    "    'currentPage' : 1,\n",
    "    'rowPerPage' : 500\n",
    "}\n",
    "res = requests.get(url,params=req_param_dict)\n",
    "print(res.status_code)\n",
    "\n",
    "member_id_list=[]\n",
    "\n",
    "if res.ok:\n",
    "    soup = BeautifulSoup(res.text, 'html.parser')\n",
    "    print(len(soup.select('div.memberna_list dl dt a')))\n",
    "    atag_list = soup.select('div.memberna_list dl dt a')\n",
    "    for atag in atag_list:\n",
    "        herf = atag['href']\n",
    "        matched = re.search(r'(\\d+)', herf)\n",
    "        if matched:\n",
    "            member_id = matched.group(0)\n",
    "            member_id_list.append(member_id)\n",
    "    print(len(member_id_list))\n",
    "    print(member_id_list)"
   ]
  },
  {
   "cell_type": "code",
   "execution_count": 15,
   "metadata": {
    "pycharm": {
     "name": "#%%\n"
    }
   },
   "outputs": [
    {
     "name": "stdout",
     "output_type": "stream",
     "text": [
      "끝\n"
     ]
    }
   ],
   "source": [
    "import requests\n",
    "from  bs4 import BeautifulSoup\n",
    "import  re\n",
    "from urllib.parse import urljoin\n",
    "\n",
    "member_detail_list = []\n",
    "for idx, mem_id in enumerate(member_id_list,1):\n",
    "    detail_url = f'https://assembly.go.kr/assm/memPop/memPopup.do?dept_cd={mem_id}'\n",
    "#     print(detail_url)\n",
    "    res = requests.get(detail_url)\n",
    "    if res.ok:\n",
    "        soup = BeautifulSoup(res.text, 'html.parser')\n",
    "\n",
    "        member_detail_dict ={}\n",
    "        # print(soup.select('dl.pro_detail dt'))\n",
    "        # print(soup.select('dl.pro_detail dd'))\n",
    "\n",
    "        dt_list = [dt.text for dt in soup.select('dl.pro_detail dt')]\n",
    "\n",
    "        dd_list = []\n",
    "\n",
    "        for dd in soup.select('dl.pro_detail dd'):\n",
    "            patten = re.compile(f'[\\n\\r\\t]')\n",
    "            dd_text = patten.sub(' ', dd.text.strip()).replace(\" \",\"\")\n",
    "            dd_list.append(dd_text)\n",
    "\n",
    "        member_detail_dict =dict(zip(dt_list,dd_list))\n",
    "\n",
    "        for div_tag in soup.select('div.profile'):\n",
    "            member_detail_dict['이름'] = div_tag.find('h4').text\n",
    "\n",
    "            img_tag = div_tag.select('img')\n",
    "            if img_tag:\n",
    "                member_detail_dict['이미지'] = urljoin(detail_url, img_tag[0]['src'])\n",
    "\n",
    "            member_detail_dict['생년월일'] = div_tag.select_one('li:nth-of-type(4)').text\n",
    "        member_detail_list.append(member_detail_dict)\n",
    "\n",
    "# print(member_detail_list)\n",
    "# print(len(member_detail_list))\n",
    "print('끝')"
   ]
  },
  {
   "cell_type": "code",
   "execution_count": 16,
   "metadata": {},
   "outputs": [],
   "source": [
    "import  json\n",
    "\n",
    "with open('data/member.json','w') as file:\n",
    "    json.dump(member_detail_list, file)"
   ]
  },
  {
   "cell_type": "code",
   "execution_count": 17,
   "metadata": {},
   "outputs": [
    {
     "name": "stdout",
     "output_type": "stream",
     "text": [
      "(295, 16)\n"
     ]
    }
   ],
   "source": [
    "import pandas as pd\n",
    "\n",
    "member_df = pd.read_json('data/member.json')\n",
    "print(member_df.shape)"
   ]
  },
  {
   "cell_type": "code",
   "execution_count": 19,
   "metadata": {
    "pycharm": {
     "name": "#%%\n"
    }
   },
   "outputs": [
    {
     "data": {
      "text/html": [
       "<div>\n",
       "<style scoped>\n",
       "    .dataframe tbody tr th:only-of-type {\n",
       "        vertical-align: middle;\n",
       "    }\n",
       "\n",
       "    .dataframe tbody tr th {\n",
       "        vertical-align: top;\n",
       "    }\n",
       "\n",
       "    .dataframe thead th {\n",
       "        text-align: right;\n",
       "    }\n",
       "</style>\n",
       "<table border=\"1\" class=\"dataframe\">\n",
       "  <thead>\n",
       "    <tr style=\"text-align: right;\">\n",
       "      <th></th>\n",
       "      <th>정당</th>\n",
       "      <th>선거구</th>\n",
       "      <th>소속위원회</th>\n",
       "      <th>당선횟수</th>\n",
       "      <th>사무실 전화</th>\n",
       "      <th>사무실 호실</th>\n",
       "      <th>홈페이지</th>\n",
       "      <th>이메일</th>\n",
       "      <th>보좌관</th>\n",
       "      <th>비서관</th>\n",
       "      <th>비서</th>\n",
       "      <th>취미, 특기</th>\n",
       "      <th>의원실 안내</th>\n",
       "      <th>이름</th>\n",
       "      <th>이미지</th>\n",
       "      <th>생년월일</th>\n",
       "    </tr>\n",
       "  </thead>\n",
       "  <tbody>\n",
       "    <tr>\n",
       "      <th>0</th>\n",
       "      <td>국민의힘</td>\n",
       "      <td>경남창원시성산구</td>\n",
       "      <td>보건복지위원회</td>\n",
       "      <td>재선(19대,21대)</td>\n",
       "      <td>02-784-1751</td>\n",
       "      <td>의원회관937호</td>\n",
       "      <td>http://blog.naver.com/ggotop</td>\n",
       "      <td>ggotop@naver.com</td>\n",
       "      <td>김홍광,한영애</td>\n",
       "      <td>지상훈,최광림</td>\n",
       "      <td>김영록,안효상,이유진,홍지형,김지훈</td>\n",
       "      <td></td>\n",
       "      <td></td>\n",
       "      <td>강기윤</td>\n",
       "      <td>https://www.assembly.go.kr/photo/9771230.jpg</td>\n",
       "      <td>1960-06-04</td>\n",
       "    </tr>\n",
       "    <tr>\n",
       "      <th>1</th>\n",
       "      <td>국민의힘</td>\n",
       "      <td>대구동구을</td>\n",
       "      <td>국방위원회,정치개혁특별위원회</td>\n",
       "      <td>초선(21대)</td>\n",
       "      <td>02-784-5275</td>\n",
       "      <td>의원회관341호</td>\n",
       "      <td></td>\n",
       "      <td>kds21341@naver.com</td>\n",
       "      <td>박홍규,정운태</td>\n",
       "      <td>유진영,윤미라</td>\n",
       "      <td>박순권,김광연,김현정,송민욱</td>\n",
       "      <td></td>\n",
       "      <td></td>\n",
       "      <td>강대식</td>\n",
       "      <td>https://www.assembly.go.kr/photo/9771142.jpg</td>\n",
       "      <td>1959-11-02</td>\n",
       "    </tr>\n",
       "    <tr>\n",
       "      <th>2</th>\n",
       "      <td>더불어민주당</td>\n",
       "      <td>경기안양시만안구</td>\n",
       "      <td>교육위원회,예산결산특별위원회</td>\n",
       "      <td>초선(21대)</td>\n",
       "      <td>02-784-2747~9</td>\n",
       "      <td>의원회관440호</td>\n",
       "      <td>https://blog.naver.com/dulipapa</td>\n",
       "      <td>mainsail440@daum.net</td>\n",
       "      <td>서용선,안홍식</td>\n",
       "      <td>최경순,홍미하</td>\n",
       "      <td>문형구,최기섭,조나연,오세령,배은경</td>\n",
       "      <td></td>\n",
       "      <td>강득구의원의'사람중심민생중심'의정활동이국민의삶에힘이되도록열심히하고있습니다.강득구의원...</td>\n",
       "      <td>강득구</td>\n",
       "      <td>https://www.assembly.go.kr/photo/9771174.jpg</td>\n",
       "      <td>1963-05-27</td>\n",
       "    </tr>\n",
       "    <tr>\n",
       "      <th>3</th>\n",
       "      <td>국민의힘</td>\n",
       "      <td>경남진주시을</td>\n",
       "      <td>국회운영위원회,정무위원회,중앙선거관리위원회위원(문상부)선출에관한인사청문특별위원회,정...</td>\n",
       "      <td>초선(21대)</td>\n",
       "      <td>02-784-0797</td>\n",
       "      <td>의원회관1007호</td>\n",
       "      <td></td>\n",
       "      <td>strongwind01@naver.com</td>\n",
       "      <td>강민승,정경섭</td>\n",
       "      <td>국고은,오경훈</td>\n",
       "      <td>성환종,사정아,김오주,박정헌,한지은</td>\n",
       "      <td></td>\n",
       "      <td></td>\n",
       "      <td>강민국</td>\n",
       "      <td>https://www.assembly.go.kr/photo/9771233.jpg</td>\n",
       "      <td>1971-03-03</td>\n",
       "    </tr>\n",
       "    <tr>\n",
       "      <th>4</th>\n",
       "      <td>더불어민주당</td>\n",
       "      <td>비례대표</td>\n",
       "      <td>국회운영위원회,교육위원회,예산결산특별위원회</td>\n",
       "      <td>초선(21대)</td>\n",
       "      <td>02-784-2477</td>\n",
       "      <td>의원회관421호</td>\n",
       "      <td>https://blog.naver.com/kmgedu21</td>\n",
       "      <td>kmj2020edu@gmail.com</td>\n",
       "      <td>손성조,윤호숙</td>\n",
       "      <td>김민혜,김원석</td>\n",
       "      <td>김수안,김성용,민지홍,황연미,양진영</td>\n",
       "      <td></td>\n",
       "      <td></td>\n",
       "      <td>강민정</td>\n",
       "      <td>https://www.assembly.go.kr/photo/9771283.jpg</td>\n",
       "      <td>1961-04-26</td>\n",
       "    </tr>\n",
       "  </tbody>\n",
       "</table>\n",
       "</div>"
      ],
      "text/plain": [
       "       정당       선거구                                              소속위원회  \\\n",
       "0    국민의힘  경남창원시성산구                                            보건복지위원회   \n",
       "1    국민의힘     대구동구을                                    국방위원회,정치개혁특별위원회   \n",
       "2  더불어민주당  경기안양시만안구                                    교육위원회,예산결산특별위원회   \n",
       "3    국민의힘    경남진주시을  국회운영위원회,정무위원회,중앙선거관리위원회위원(문상부)선출에관한인사청문특별위원회,정...   \n",
       "4  더불어민주당      비례대표                            국회운영위원회,교육위원회,예산결산특별위원회   \n",
       "\n",
       "          당선횟수         사무실 전화     사무실 호실                             홈페이지  \\\n",
       "0  재선(19대,21대)    02-784-1751   의원회관937호     http://blog.naver.com/ggotop   \n",
       "1      초선(21대)    02-784-5275   의원회관341호                                    \n",
       "2      초선(21대)  02-784-2747~9   의원회관440호  https://blog.naver.com/dulipapa   \n",
       "3      초선(21대)    02-784-0797  의원회관1007호                                    \n",
       "4      초선(21대)    02-784-2477   의원회관421호  https://blog.naver.com/kmgedu21   \n",
       "\n",
       "                      이메일      보좌관      비서관                   비서 취미, 특기  \\\n",
       "0        ggotop@naver.com  김홍광,한영애  지상훈,최광림  김영록,안효상,이유진,홍지형,김지훈          \n",
       "1      kds21341@naver.com  박홍규,정운태  유진영,윤미라      박순권,김광연,김현정,송민욱          \n",
       "2    mainsail440@daum.net  서용선,안홍식  최경순,홍미하  문형구,최기섭,조나연,오세령,배은경          \n",
       "3  strongwind01@naver.com  강민승,정경섭  국고은,오경훈  성환종,사정아,김오주,박정헌,한지은          \n",
       "4    kmj2020edu@gmail.com  손성조,윤호숙  김민혜,김원석  김수안,김성용,민지홍,황연미,양진영          \n",
       "\n",
       "                                              의원실 안내   이름  \\\n",
       "0                                                     강기윤   \n",
       "1                                                     강대식   \n",
       "2  강득구의원의'사람중심민생중심'의정활동이국민의삶에힘이되도록열심히하고있습니다.강득구의원...  강득구   \n",
       "3                                                     강민국   \n",
       "4                                                     강민정   \n",
       "\n",
       "                                            이미지        생년월일  \n",
       "0  https://www.assembly.go.kr/photo/9771230.jpg  1960-06-04  \n",
       "1  https://www.assembly.go.kr/photo/9771142.jpg  1959-11-02  \n",
       "2  https://www.assembly.go.kr/photo/9771174.jpg  1963-05-27  \n",
       "3  https://www.assembly.go.kr/photo/9771233.jpg  1971-03-03  \n",
       "4  https://www.assembly.go.kr/photo/9771283.jpg  1961-04-26  "
      ]
     },
     "execution_count": 19,
     "metadata": {},
     "output_type": "execute_result"
    }
   ],
   "source": [
    "member_df.head()"
   ]
  },
  {
   "cell_type": "code",
   "execution_count": 20,
   "metadata": {
    "pycharm": {
     "name": "#%%\n"
    }
   },
   "outputs": [
    {
     "name": "stdout",
     "output_type": "stream",
     "text": [
      "<class 'pandas.core.frame.DataFrame'>\n",
      "RangeIndex: 295 entries, 0 to 294\n",
      "Data columns (total 16 columns):\n",
      " #   Column  Non-Null Count  Dtype \n",
      "---  ------  --------------  ----- \n",
      " 0   정당      295 non-null    object\n",
      " 1   선거구     295 non-null    object\n",
      " 2   소속위원회   295 non-null    object\n",
      " 3   당선횟수    295 non-null    object\n",
      " 4   사무실 전화  295 non-null    object\n",
      " 5   사무실 호실  295 non-null    object\n",
      " 6   홈페이지    295 non-null    object\n",
      " 7   이메일     295 non-null    object\n",
      " 8   보좌관     295 non-null    object\n",
      " 9   비서관     295 non-null    object\n",
      " 10  비서      295 non-null    object\n",
      " 11  취미, 특기  295 non-null    object\n",
      " 12  의원실 안내  295 non-null    object\n",
      " 13  이름      295 non-null    object\n",
      " 14  이미지     295 non-null    object\n",
      " 15  생년월일    295 non-null    object\n",
      "dtypes: object(16)\n",
      "memory usage: 37.0+ KB\n"
     ]
    }
   ],
   "source": [
    "member_df.info()"
   ]
  },
  {
   "cell_type": "code",
   "execution_count": 21,
   "metadata": {},
   "outputs": [
    {
     "data": {
      "text/plain": [
       "더불어민주당    172\n",
       "국민의힘      106\n",
       "정의당         6\n",
       "무소속         6\n",
       "국민의당        3\n",
       "기본소득당       1\n",
       "시대전환        1\n",
       "Name: 정당, dtype: int64"
      ]
     },
     "execution_count": 21,
     "metadata": {},
     "output_type": "execute_result"
    }
   ],
   "source": [
    "member_df['정당'].value_counts()"
   ]
  },
  {
   "cell_type": "code",
   "execution_count": 22,
   "metadata": {},
   "outputs": [
    {
     "data": {
      "text/plain": [
       "초선(21대)                        149\n",
       "재선(20대,21대)                     60\n",
       "3선(19대,20대,21대)                 33\n",
       "4선(17대,19대,20대,21대)             10\n",
       "재선(19대,21대)                      9\n",
       "5선(17대,18대,19대,20대,21대)          7\n",
       "4선(18대,19대,20대,21대)              6\n",
       "3선(18대,19대,21대)                  3\n",
       "재선(17대,21대)                      2\n",
       "4선(16대,17대,18대,21대)              2\n",
       "5선(16대,17대,18대,20대,21대)          2\n",
       "3선(17대,19대,21대)                  2\n",
       "3선(18대,20대,21대)                  2\n",
       "4선(17대,18대,19대,21대)              1\n",
       "3선(15대,16대,21대)                  1\n",
       "6선(16대,17대,18대,19대,20대,21대)      1\n",
       "5선(16대,17대,18대,19대,21대)          1\n",
       "5선(15대,16대,19대,20대,21대)          1\n",
       "3선(17대,18대,21대)                  1\n",
       "재선(18대,21대)                      1\n",
       "5선(15대,16대,17대,18대,21대)          1\n",
       "Name: 당선횟수, dtype: int64"
      ]
     },
     "execution_count": 22,
     "metadata": {},
     "output_type": "execute_result"
    }
   ],
   "source": [
    "member_df['당선횟수'].value_counts()"
   ]
  },
  {
   "cell_type": "code",
   "execution_count": 37,
   "metadata": {},
   "outputs": [
    {
     "name": "stdout",
     "output_type": "stream",
     "text": [
      "<class 'pandas.core.series.Series'>\n",
      "<class 'pandas.core.strings.accessor.StringMethods'>\n"
     ]
    },
    {
     "data": {
      "text/html": [
       "<div>\n",
       "<style scoped>\n",
       "    .dataframe tbody tr th:only-of-type {\n",
       "        vertical-align: middle;\n",
       "    }\n",
       "\n",
       "    .dataframe tbody tr th {\n",
       "        vertical-align: top;\n",
       "    }\n",
       "\n",
       "    .dataframe thead th {\n",
       "        text-align: right;\n",
       "    }\n",
       "</style>\n",
       "<table border=\"1\" class=\"dataframe\">\n",
       "  <thead>\n",
       "    <tr style=\"text-align: right;\">\n",
       "      <th></th>\n",
       "      <th>당선횟수</th>\n",
       "      <th>당선횟수2</th>\n",
       "    </tr>\n",
       "  </thead>\n",
       "  <tbody>\n",
       "    <tr>\n",
       "      <th>0</th>\n",
       "      <td>재선(19대,21대)</td>\n",
       "      <td>재선</td>\n",
       "    </tr>\n",
       "    <tr>\n",
       "      <th>1</th>\n",
       "      <td>초선(21대)</td>\n",
       "      <td>초선</td>\n",
       "    </tr>\n",
       "    <tr>\n",
       "      <th>2</th>\n",
       "      <td>초선(21대)</td>\n",
       "      <td>초선</td>\n",
       "    </tr>\n",
       "    <tr>\n",
       "      <th>3</th>\n",
       "      <td>초선(21대)</td>\n",
       "      <td>초선</td>\n",
       "    </tr>\n",
       "    <tr>\n",
       "      <th>4</th>\n",
       "      <td>초선(21대)</td>\n",
       "      <td>초선</td>\n",
       "    </tr>\n",
       "    <tr>\n",
       "      <th>5</th>\n",
       "      <td>재선(20대,21대)</td>\n",
       "      <td>재선</td>\n",
       "    </tr>\n",
       "    <tr>\n",
       "      <th>6</th>\n",
       "      <td>초선(21대)</td>\n",
       "      <td>초선</td>\n",
       "    </tr>\n",
       "  </tbody>\n",
       "</table>\n",
       "</div>"
      ],
      "text/plain": [
       "          당선횟수 당선횟수2\n",
       "0  재선(19대,21대)    재선\n",
       "1      초선(21대)    초선\n",
       "2      초선(21대)    초선\n",
       "3      초선(21대)    초선\n",
       "4      초선(21대)    초선\n",
       "5  재선(20대,21대)    재선\n",
       "6      초선(21대)    초선"
      ]
     },
     "execution_count": 37,
     "metadata": {},
     "output_type": "execute_result"
    }
   ],
   "source": [
    "print(type(member_df['당선횟수'].value_counts()))\n",
    "print(type(member_df['당선횟수'].value_counts()).str)\n",
    "temp_str =member_df['당선횟수'].str\n",
    "member_df['당선횟수2'] = temp_str[:2]\n",
    "\n",
    "member_df.loc[0:6, ['당선횟수', '당선횟수2']]"
   ]
  },
  {
   "cell_type": "code",
   "execution_count": 38,
   "metadata": {},
   "outputs": [
    {
     "data": {
      "text/plain": [
       "초선    149\n",
       "재선     72\n",
       "3선     42\n",
       "4선     19\n",
       "5선     12\n",
       "6선      1\n",
       "Name: 당선횟수2, dtype: int64"
      ]
     },
     "execution_count": 38,
     "metadata": {},
     "output_type": "execute_result"
    }
   ],
   "source": [
    "member_df['당선횟수2'].value_counts()"
   ]
  },
  {
   "cell_type": "code",
   "execution_count": 42,
   "metadata": {},
   "outputs": [
    {
     "data": {
      "text/html": [
       "<div>\n",
       "<style scoped>\n",
       "    .dataframe tbody tr th:only-of-type {\n",
       "        vertical-align: middle;\n",
       "    }\n",
       "\n",
       "    .dataframe tbody tr th {\n",
       "        vertical-align: top;\n",
       "    }\n",
       "\n",
       "    .dataframe thead th {\n",
       "        text-align: right;\n",
       "    }\n",
       "</style>\n",
       "<table border=\"1\" class=\"dataframe\">\n",
       "  <thead>\n",
       "    <tr style=\"text-align: right;\">\n",
       "      <th></th>\n",
       "      <th>정당</th>\n",
       "      <th>선거구</th>\n",
       "      <th>소속위원회</th>\n",
       "      <th>당선횟수</th>\n",
       "      <th>사무실 전화</th>\n",
       "      <th>사무실 호실</th>\n",
       "      <th>홈페이지</th>\n",
       "      <th>이메일</th>\n",
       "      <th>보좌관</th>\n",
       "      <th>비서관</th>\n",
       "      <th>비서</th>\n",
       "      <th>취미, 특기</th>\n",
       "      <th>의원실 안내</th>\n",
       "      <th>이름</th>\n",
       "      <th>이미지</th>\n",
       "      <th>생년월일</th>\n",
       "      <th>당선횟수2</th>\n",
       "      <th>선거구2</th>\n",
       "    </tr>\n",
       "  </thead>\n",
       "  <tbody>\n",
       "    <tr>\n",
       "      <th>91</th>\n",
       "      <td>무소속</td>\n",
       "      <td>대전서구갑</td>\n",
       "      <td></td>\n",
       "      <td>6선(16대,17대,18대,19대,20대,21대)</td>\n",
       "      <td>02-6788-6461</td>\n",
       "      <td>의원회관804호</td>\n",
       "      <td></td>\n",
       "      <td>pbs2100@gmail.com</td>\n",
       "      <td>박승규,송석근</td>\n",
       "      <td>김민숙,좌승택</td>\n",
       "      <td>이영해,조연길,최지연,임규보,이초롱</td>\n",
       "      <td></td>\n",
       "      <td></td>\n",
       "      <td>박병석</td>\n",
       "      <td>https://www.assembly.go.kr/photo/9770090.jpg</td>\n",
       "      <td>1952-01-25</td>\n",
       "      <td>6선</td>\n",
       "      <td>대전</td>\n",
       "    </tr>\n",
       "  </tbody>\n",
       "</table>\n",
       "</div>"
      ],
      "text/plain": [
       "     정당    선거구 소속위원회                         당선횟수        사무실 전화    사무실 호실  \\\n",
       "91  무소속  대전서구갑        6선(16대,17대,18대,19대,20대,21대)  02-6788-6461  의원회관804호   \n",
       "\n",
       "   홈페이지                이메일      보좌관      비서관                   비서 취미, 특기  \\\n",
       "91       pbs2100@gmail.com  박승규,송석근  김민숙,좌승택  이영해,조연길,최지연,임규보,이초롱          \n",
       "\n",
       "   의원실 안내   이름                                           이미지        생년월일  \\\n",
       "91         박병석  https://www.assembly.go.kr/photo/9770090.jpg  1952-01-25   \n",
       "\n",
       "   당선횟수2 선거구2  \n",
       "91    6선   대전  "
      ]
     },
     "execution_count": 42,
     "metadata": {},
     "output_type": "execute_result"
    }
   ],
   "source": [
    "member_df.loc[member_df['당선횟수2'] == '6선']"
   ]
  },
  {
   "cell_type": "code",
   "execution_count": 31,
   "metadata": {},
   "outputs": [
    {
     "data": {
      "text/plain": [
       "초선    149\n",
       "재선     72\n",
       "3선     42\n",
       "4선     19\n",
       "5선     12\n",
       "6선      1\n",
       "Name: 당선횟수2, dtype: int64"
      ]
     },
     "execution_count": 31,
     "metadata": {},
     "output_type": "execute_result"
    }
   ],
   "source": [
    "member_df['당선횟수2'].value_counts()"
   ]
  },
  {
   "cell_type": "code",
   "execution_count": 34,
   "metadata": {},
   "outputs": [
    {
     "name": "stdout",
     "output_type": "stream",
     "text": [
      "<class 'pandas.core.series.Series'>\n",
      "<class 'pandas.core.strings.accessor.StringMethods'>\n"
     ]
    },
    {
     "data": {
      "text/plain": [
       "비례대표              47\n",
       "경남창원시성산구           1\n",
       "광주광산구갑             1\n",
       "전남담양군함평군영광군장성군     1\n",
       "강원원주시갑             1\n",
       "                  ..\n",
       "경남창원시의창구           1\n",
       "충남천안시을             1\n",
       "서울강북구을             1\n",
       "부산남구을              1\n",
       "서울양천구갑             1\n",
       "Name: 선거구, Length: 249, dtype: int64"
      ]
     },
     "execution_count": 34,
     "metadata": {},
     "output_type": "execute_result"
    }
   ],
   "source": [
    "print(type(member_df['선거구'].value_counts()))\n",
    "print(type(member_df['선거구'].value_counts()).str)\n",
    "member_df['선거구'].value_counts()"
   ]
  },
  {
   "cell_type": "code",
   "execution_count": 35,
   "metadata": {},
   "outputs": [
    {
     "data": {
      "text/html": [
       "<div>\n",
       "<style scoped>\n",
       "    .dataframe tbody tr th:only-of-type {\n",
       "        vertical-align: middle;\n",
       "    }\n",
       "\n",
       "    .dataframe tbody tr th {\n",
       "        vertical-align: top;\n",
       "    }\n",
       "\n",
       "    .dataframe thead th {\n",
       "        text-align: right;\n",
       "    }\n",
       "</style>\n",
       "<table border=\"1\" class=\"dataframe\">\n",
       "  <thead>\n",
       "    <tr style=\"text-align: right;\">\n",
       "      <th></th>\n",
       "      <th>선거구</th>\n",
       "      <th>선거구2</th>\n",
       "    </tr>\n",
       "  </thead>\n",
       "  <tbody>\n",
       "    <tr>\n",
       "      <th>0</th>\n",
       "      <td>경남창원시성산구</td>\n",
       "      <td>경남</td>\n",
       "    </tr>\n",
       "    <tr>\n",
       "      <th>1</th>\n",
       "      <td>대구동구을</td>\n",
       "      <td>대구</td>\n",
       "    </tr>\n",
       "    <tr>\n",
       "      <th>2</th>\n",
       "      <td>경기안양시만안구</td>\n",
       "      <td>경기</td>\n",
       "    </tr>\n",
       "    <tr>\n",
       "      <th>3</th>\n",
       "      <td>경남진주시을</td>\n",
       "      <td>경남</td>\n",
       "    </tr>\n",
       "  </tbody>\n",
       "</table>\n",
       "</div>"
      ],
      "text/plain": [
       "        선거구 선거구2\n",
       "0  경남창원시성산구   경남\n",
       "1     대구동구을   대구\n",
       "2  경기안양시만안구   경기\n",
       "3    경남진주시을   경남"
      ]
     },
     "execution_count": 35,
     "metadata": {},
     "output_type": "execute_result"
    }
   ],
   "source": [
    "temp_str2 = member_df['선거구'].str\n",
    "member_df['선거구2'] = temp_str2[:2]\n",
    "\n",
    "member_df.loc[0:3, ['선거구', '선거구2']]"
   ]
  },
  {
   "cell_type": "code",
   "execution_count": 36,
   "metadata": {},
   "outputs": [
    {
     "data": {
      "text/plain": [
       "경기    58\n",
       "비례    47\n",
       "서울    47\n",
       "부산    18\n",
       "경남    16\n",
       "경북    13\n",
       "인천    13\n",
       "충남    11\n",
       "대구    11\n",
       "전북    10\n",
       "전남    10\n",
       "광주     8\n",
       "강원     8\n",
       "충북     7\n",
       "대전     7\n",
       "울산     6\n",
       "제주     3\n",
       "세종     2\n",
       "Name: 선거구2, dtype: int64"
      ]
     },
     "execution_count": 36,
     "metadata": {},
     "output_type": "execute_result"
    }
   ],
   "source": [
    "member_df['선거구2'].value_counts()"
   ]
  },
  {
   "cell_type": "code",
   "execution_count": 41,
   "metadata": {},
   "outputs": [
    {
     "data": {
      "text/plain": [
       "경기    0.196610\n",
       "비례    0.159322\n",
       "서울    0.159322\n",
       "부산    0.061017\n",
       "경남    0.054237\n",
       "경북    0.044068\n",
       "인천    0.044068\n",
       "충남    0.037288\n",
       "대구    0.037288\n",
       "전북    0.033898\n",
       "전남    0.033898\n",
       "광주    0.027119\n",
       "강원    0.027119\n",
       "충북    0.023729\n",
       "대전    0.023729\n",
       "울산    0.020339\n",
       "제주    0.010169\n",
       "세종    0.006780\n",
       "Name: 선거구2, dtype: float64"
      ]
     },
     "execution_count": 41,
     "metadata": {},
     "output_type": "execute_result"
    }
   ],
   "source": [
    "#퍼센테이지 구하기 - normalize = True\n",
    "member_df['선거구2'].value_counts(normalize =True)"
   ]
  },
  {
   "cell_type": "code",
   "execution_count": 46,
   "metadata": {},
   "outputs": [
    {
     "data": {
      "text/plain": [
       "0    1960-06-04\n",
       "1    1959-11-02\n",
       "2    1963-05-27\n",
       "Name: 생년월일, dtype: object"
      ]
     },
     "execution_count": 46,
     "metadata": {},
     "output_type": "execute_result"
    }
   ],
   "source": [
    "member_df['생년월일'].head(3)"
   ]
  },
  {
   "cell_type": "code",
   "execution_count": 47,
   "metadata": {},
   "outputs": [
    {
     "data": {
      "text/html": [
       "<div>\n",
       "<style scoped>\n",
       "    .dataframe tbody tr th:only-of-type {\n",
       "        vertical-align: middle;\n",
       "    }\n",
       "\n",
       "    .dataframe tbody tr th {\n",
       "        vertical-align: top;\n",
       "    }\n",
       "\n",
       "    .dataframe thead th {\n",
       "        text-align: right;\n",
       "    }\n",
       "</style>\n",
       "<table border=\"1\" class=\"dataframe\">\n",
       "  <thead>\n",
       "    <tr style=\"text-align: right;\">\n",
       "      <th></th>\n",
       "      <th>year</th>\n",
       "      <th>month</th>\n",
       "      <th>day</th>\n",
       "    </tr>\n",
       "  </thead>\n",
       "  <tbody>\n",
       "    <tr>\n",
       "      <th>0</th>\n",
       "      <td>1960</td>\n",
       "      <td>6</td>\n",
       "      <td>4</td>\n",
       "    </tr>\n",
       "    <tr>\n",
       "      <th>1</th>\n",
       "      <td>1959</td>\n",
       "      <td>11</td>\n",
       "      <td>2</td>\n",
       "    </tr>\n",
       "    <tr>\n",
       "      <th>2</th>\n",
       "      <td>1963</td>\n",
       "      <td>5</td>\n",
       "      <td>27</td>\n",
       "    </tr>\n",
       "    <tr>\n",
       "      <th>3</th>\n",
       "      <td>1971</td>\n",
       "      <td>3</td>\n",
       "      <td>3</td>\n",
       "    </tr>\n",
       "  </tbody>\n",
       "</table>\n",
       "</div>"
      ],
      "text/plain": [
       "   year  month  day\n",
       "0  1960      6    4\n",
       "1  1959     11    2\n",
       "2  1963      5   27\n",
       "3  1971      3    3"
      ]
     },
     "execution_count": 47,
     "metadata": {},
     "output_type": "execute_result"
    }
   ],
   "source": [
    "member_df['year'] = pd.DatetimeIndex(member_df['생년월일']).year\n",
    "member_df['month'] = pd.DatetimeIndex(member_df['생년월일']).month\n",
    "member_df['day'] = pd.DatetimeIndex(member_df['생년월일']).day\n",
    "\n",
    "member_df.loc[0:3, ['year', 'month', 'day']]"
   ]
  },
  {
   "cell_type": "code",
   "execution_count": 48,
   "metadata": {},
   "outputs": [
    {
     "data": {
      "text/html": [
       "<div>\n",
       "<style scoped>\n",
       "    .dataframe tbody tr th:only-of-type {\n",
       "        vertical-align: middle;\n",
       "    }\n",
       "\n",
       "    .dataframe tbody tr th {\n",
       "        vertical-align: top;\n",
       "    }\n",
       "\n",
       "    .dataframe thead th {\n",
       "        text-align: right;\n",
       "    }\n",
       "</style>\n",
       "<table border=\"1\" class=\"dataframe\">\n",
       "  <thead>\n",
       "    <tr style=\"text-align: right;\">\n",
       "      <th></th>\n",
       "      <th>정당</th>\n",
       "      <th>선거구</th>\n",
       "      <th>소속위원회</th>\n",
       "      <th>당선횟수</th>\n",
       "      <th>사무실 전화</th>\n",
       "      <th>사무실 호실</th>\n",
       "      <th>홈페이지</th>\n",
       "      <th>이메일</th>\n",
       "      <th>보좌관</th>\n",
       "      <th>비서관</th>\n",
       "      <th>...</th>\n",
       "      <th>취미, 특기</th>\n",
       "      <th>의원실 안내</th>\n",
       "      <th>이름</th>\n",
       "      <th>이미지</th>\n",
       "      <th>생년월일</th>\n",
       "      <th>당선횟수2</th>\n",
       "      <th>선거구2</th>\n",
       "      <th>year</th>\n",
       "      <th>month</th>\n",
       "      <th>day</th>\n",
       "    </tr>\n",
       "  </thead>\n",
       "  <tbody>\n",
       "    <tr>\n",
       "      <th>79</th>\n",
       "      <td>정의당</td>\n",
       "      <td>비례대표</td>\n",
       "      <td>산업통상자원중소벤처기업위원회,윤리특별위원회,감사원장(최재해)임명동의에관한인사청문특별위원회</td>\n",
       "      <td>초선(21대)</td>\n",
       "      <td>02-784-9740</td>\n",
       "      <td>의원회관513호</td>\n",
       "      <td>http://ryuhojeong.com</td>\n",
       "      <td>help@ryuhojeong.com</td>\n",
       "      <td>양호영,염종운</td>\n",
       "      <td>최강연,황윤영</td>\n",
       "      <td>...</td>\n",
       "      <td>게임</td>\n",
       "      <td></td>\n",
       "      <td>류호정</td>\n",
       "      <td>https://www.assembly.go.kr/photo/9771274.jpg</td>\n",
       "      <td>1992-08-09</td>\n",
       "      <td>초선</td>\n",
       "      <td>비례</td>\n",
       "      <td>1992</td>\n",
       "      <td>8</td>\n",
       "      <td>9</td>\n",
       "    </tr>\n",
       "  </tbody>\n",
       "</table>\n",
       "<p>1 rows × 21 columns</p>\n",
       "</div>"
      ],
      "text/plain": [
       "     정당   선거구                                              소속위원회     당선횟수  \\\n",
       "79  정의당  비례대표  산업통상자원중소벤처기업위원회,윤리특별위원회,감사원장(최재해)임명동의에관한인사청문특별위원회  초선(21대)   \n",
       "\n",
       "         사무실 전화    사무실 호실                   홈페이지                  이메일  \\\n",
       "79  02-784-9740  의원회관513호  http://ryuhojeong.com  help@ryuhojeong.com   \n",
       "\n",
       "        보좌관      비서관  ... 취미, 특기 의원실 안내   이름  \\\n",
       "79  양호영,염종운  최강연,황윤영  ...     게임         류호정   \n",
       "\n",
       "                                             이미지        생년월일 당선횟수2 선거구2  year  \\\n",
       "79  https://www.assembly.go.kr/photo/9771274.jpg  1992-08-09    초선   비례  1992   \n",
       "\n",
       "    month  day  \n",
       "79      8    9  \n",
       "\n",
       "[1 rows x 21 columns]"
      ]
     },
     "execution_count": 48,
     "metadata": {},
     "output_type": "execute_result"
    }
   ],
   "source": [
    "#가장 나이가 어린 사람?\n",
    "member_df.loc[member_df['year'] == member_df['year'].max()]"
   ]
  },
  {
   "cell_type": "code",
   "execution_count": 49,
   "metadata": {
    "pycharm": {
     "name": "#%%\n"
    }
   },
   "outputs": [
    {
     "name": "stdout",
     "output_type": "stream",
     "text": [
      "2022-02-09\n",
      "2022 2 9\n"
     ]
    }
   ],
   "source": [
    "from datetime import date\n",
    "\n",
    "today = date.today()\n",
    "print(today)\n",
    "\n",
    "print(today.year, today.month, today.day)"
   ]
  },
  {
   "cell_type": "code",
   "execution_count": 50,
   "metadata": {
    "pycharm": {
     "name": "#%%\n"
    }
   },
   "outputs": [
    {
     "ename": "ValueError",
     "evalue": "The truth value of a Series is ambiguous. Use a.empty, a.bool(), a.item(), a.any() or a.all().",
     "output_type": "error",
     "traceback": [
      "\u001b[1;31m---------------------------------------------------------------------------\u001b[0m",
      "\u001b[1;31mValueError\u001b[0m                                Traceback (most recent call last)",
      "\u001b[1;32m~\\AppData\\Local\\Temp/ipykernel_65708/486919496.py\u001b[0m in \u001b[0;36m<module>\u001b[1;34m\u001b[0m\n\u001b[1;32m----> 1\u001b[1;33m \u001b[0mage\u001b[0m \u001b[1;33m=\u001b[0m \u001b[0mtoday\u001b[0m\u001b[1;33m.\u001b[0m\u001b[0myear\u001b[0m \u001b[1;33m-\u001b[0m \u001b[0mmember_df\u001b[0m\u001b[1;33m[\u001b[0m\u001b[1;34m'year'\u001b[0m\u001b[1;33m]\u001b[0m\u001b[1;33m-\u001b[0m\u001b[1;33m(\u001b[0m\u001b[1;33m(\u001b[0m\u001b[0mtoday\u001b[0m\u001b[1;33m.\u001b[0m\u001b[0mmonth\u001b[0m\u001b[1;33m,\u001b[0m \u001b[0mtoday\u001b[0m\u001b[1;33m.\u001b[0m\u001b[0mday\u001b[0m\u001b[1;33m)\u001b[0m\u001b[1;33m<\u001b[0m\u001b[1;33m(\u001b[0m\u001b[0mmember_df\u001b[0m\u001b[1;33m[\u001b[0m\u001b[1;34m'month'\u001b[0m\u001b[1;33m]\u001b[0m\u001b[1;33m,\u001b[0m \u001b[0mmember_df\u001b[0m\u001b[1;33m[\u001b[0m\u001b[1;34m'year'\u001b[0m\u001b[1;33m]\u001b[0m\u001b[1;33m)\u001b[0m\u001b[1;33m)\u001b[0m\u001b[1;33m\u001b[0m\u001b[1;33m\u001b[0m\u001b[0m\n\u001b[0m",
      "\u001b[1;32m~\\anaconda3\\lib\\site-packages\\pandas\\core\\generic.py\u001b[0m in \u001b[0;36m__nonzero__\u001b[1;34m(self)\u001b[0m\n\u001b[0;32m   1535\u001b[0m     \u001b[1;33m@\u001b[0m\u001b[0mfinal\u001b[0m\u001b[1;33m\u001b[0m\u001b[1;33m\u001b[0m\u001b[0m\n\u001b[0;32m   1536\u001b[0m     \u001b[1;32mdef\u001b[0m \u001b[0m__nonzero__\u001b[0m\u001b[1;33m(\u001b[0m\u001b[0mself\u001b[0m\u001b[1;33m)\u001b[0m\u001b[1;33m:\u001b[0m\u001b[1;33m\u001b[0m\u001b[1;33m\u001b[0m\u001b[0m\n\u001b[1;32m-> 1537\u001b[1;33m         raise ValueError(\n\u001b[0m\u001b[0;32m   1538\u001b[0m             \u001b[1;34mf\"The truth value of a {type(self).__name__} is ambiguous. \"\u001b[0m\u001b[1;33m\u001b[0m\u001b[1;33m\u001b[0m\u001b[0m\n\u001b[0;32m   1539\u001b[0m             \u001b[1;34m\"Use a.empty, a.bool(), a.item(), a.any() or a.all().\"\u001b[0m\u001b[1;33m\u001b[0m\u001b[1;33m\u001b[0m\u001b[0m\n",
      "\u001b[1;31mValueError\u001b[0m: The truth value of a Series is ambiguous. Use a.empty, a.bool(), a.item(), a.any() or a.all()."
     ]
    }
   ],
   "source": [
    "\n",
    "\n",
    "age = today.year - member_df['year']-((today.month, today.day)<(member_df['month'], member_df['year']))"
   ]
  },
  {
   "cell_type": "code",
   "execution_count": null,
   "metadata": {},
   "outputs": [],
   "source": []
  },
  {
   "cell_type": "code",
   "execution_count": null,
   "metadata": {},
   "outputs": [],
   "source": []
  }
 ],
 "metadata": {
  "kernelspec": {
   "display_name": "PyCharm (webscrap_source)",
   "language": "python",
   "name": "pycharm-96fd260c"
  },
  "language_info": {
   "codemirror_mode": {
    "name": "ipython",
    "version": 3
   },
   "file_extension": ".py",
   "mimetype": "text/x-python",
   "name": "python",
   "nbconvert_exporter": "python",
   "pygments_lexer": "ipython3",
   "version": "3.9.7"
  }
 },
 "nbformat": 4,
 "nbformat_minor": 1
}
