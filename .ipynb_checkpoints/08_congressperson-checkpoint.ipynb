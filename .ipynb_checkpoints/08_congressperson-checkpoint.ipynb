{
 "cells": [
  {
   "cell_type": "markdown",
   "metadata": {
    "collapsed": true
   },
   "source": [
    "### 국회의원 현황정보 수집/분석/시각화/저장\n",
    "* 이름과 id추출\n",
    "* 상세페이지 정보 추출(json으로 저장)\n",
    "* 상세정보를 dataframe으로 변환\n",
    "* 시각화(막대그래프, 히스토그램, 파이챠트, 히트맵\n",
    "* table로 저장"
   ]
  },
  {
   "cell_type": "code",
   "execution_count": null,
   "metadata": {},
   "outputs": [],
   "source": [
    "import"
   ]
  }
 ],
 "metadata": {
  "kernelspec": {
   "display_name": "PyCharm (webscrap_source)",
   "language": "python",
   "name": "pycharm-96fd260c"
  },
  "language_info": {
   "codemirror_mode": {
    "name": "ipython",
    "version": 3
   },
   "file_extension": ".py",
   "mimetype": "text/x-python",
   "name": "python",
   "nbconvert_exporter": "python",
   "pygments_lexer": "ipython3",
   "version": "3.9.7"
  }
 },
 "nbformat": 4,
 "nbformat_minor": 1
}
