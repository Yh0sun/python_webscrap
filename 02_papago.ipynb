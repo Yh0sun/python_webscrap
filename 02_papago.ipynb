{
 "cells": [
  {
   "cell_type": "markdown",
   "id": "07101c4d-2176-4f5d-9e9a-03c639a14145",
   "metadata": {},
   "source": [
    "### urllib을 이용한 papago 번역 API예제"
   ]
  },
  {
   "cell_type": "code",
   "execution_count": 17,
   "id": "2642a0f2-bf3f-4c25-a78a-0bebee1574c3",
   "metadata": {},
   "outputs": [],
   "source": [
    "import os\n",
    "import sys\n",
    "import urllib.request\n",
    "\n",
    "# client_id = \"o5qlaJh_eN0fXlKWenxS\" # 개발자센터에서 발급받은 Client ID 값\n",
    "# client_secret = \"P2Qz1hx2Gy\" # 개발자센터에서 발급받은 Client Secret 값\n",
    "# encText = urllib.parse.quote(\"21\")\n",
    "# data = \"source=ko&target=en&text=\" + encText\n",
    "# url = \"https://openapi.naver.com/v1/papago/n2mt\"\n",
    "# request = urllib.request.Request(url)\n",
    "# request.add_header(\"X-Naver-Client-Id\",client_id)\n",
    "# request.add_header(\"X-Naver-Client-Secret\",client_secret)\n",
    "# response = urllib.request.urlopen(request, data=data.encode(\"utf-8\"))\n",
    "# rescode = response.getcode()\n",
    "# if(rescode==200):\n",
    "#     response_body = response.read()\n",
    "#     print(response_body.decode('utf-8'))\n",
    "# else:\n",
    "#     print(\"Error Code:\" + rescode)"
   ]
  },
  {
   "cell_type": "markdown",
   "id": "b9889fc2-35d4-4890-b224-5adb7f4f9657",
   "metadata": {},
   "source": [
    "### Requests를 이용한 papago 번역 API예제"
   ]
  },
  {
   "cell_type": "code",
   "execution_count": 18,
   "id": "3ef57ae8-fced-45a3-9dfd-d5ef8ab328f1",
   "metadata": {},
   "outputs": [],
   "source": [
    "# import requests\n",
    "\n",
    "# client_id = \"o5qlaJh_eN0fXlKWenxS\" # 개발자센터에서 발급받은 Client ID 값\n",
    "# client_secret = \"P2Qz1hx2Gy\" # 개발자센터에서 발급받은 Client Secret 값\n",
    "# url = \"https://openapi.naver.com/v1/papago/n2mt\"\n",
    "# encText =\"찬바람이 후~~~~~~~\"\n",
    "#\n",
    "# req_header = {\"X-Naver-Client-Id\" : client_id, \"X-Naver-Client-Secret\" : client_secret}\n",
    "# req_param = {\"source\" : \"ko\", \"target\" : \"en\", \"text\" : encText}\n",
    "# res = requests.post(url, headers = req_header, data=req_param)\n",
    "# print(res.status_code, res.ok)\n",
    "# if res.ok:\n",
    "#     print(type(res.text),res.text)\n",
    "#     print(type(res.json),res.json())\n",
    "#     trans_text = res.json()['message']['result']['translatedText']\n",
    "#     print(trans_text)\n",
    "# else:\n",
    "#     print('Error Code ' , res.status_code)\n"
   ]
  },
  {
   "cell_type": "code",
   "execution_count": 39,
   "id": "64f2f228-5f6c-4c93-802c-0dfa2693656a",
   "metadata": {
    "pycharm": {
     "name": "#%%\n"
    }
   },
   "outputs": [
    {
     "name": "stdout",
     "output_type": "stream",
     "text": [
      "Yesterday all my troubles seemed so far away. 어제는 내 모든 고민이 너무 멀리 있는 것 같았어.\n",
      "Now it looks as though they're here to stay. 이제 그들은 여기 머물려고 온 것처럼 보인다.\n",
      "Oh, I believe in yesterday. 오, 나는 어제를 다시 그리게 돼.\n",
      "Suddenly I'm not half the man I used to be. 갑자기 나는 예전의 절반도 되지 않았다.\n",
      "There's a shadow hanging over me. 그림자가 드리워져 있어요.\n",
      "Oh, yesterday came suddenly. 아, 어제가 갑자기 왔네요.\n",
      "Why she had to go, I don't know, she wouldn't say. 왜 그녀가 가야만 했는지, 모르겠어요, 그녀는 말하려 하지 않았어요.\n",
      "I said something wrong, now I long for yesterday. 내가 잘못 말했는데, 어제가 그리워요.\n",
      "Yesterday love was such an easy game to play. 어제는 사랑이 정말 쉬운 게임이었다.\n",
      "Now I need a place to hide away. 이제 숨을 곳이 필요해\n",
      "Oh, I believe in yesterday. 오, 나는 어제를 다시 그리게 돼.\n",
      "Why she had to go, I don't know, she wouldn't say. 왜 그녀가 가야만 했는지, 모르겠어요, 그녀는 말하려 하지 않았어요.\n",
      "I said something wrong, now I long for yesterday. 내가 잘못 말했는데, 어제가 그리워요.\n",
      "Yesterday love was such an easy game to play. 어제는 사랑이 정말 쉬운 게임이었다.\n",
      "Now I need a place to hide away. 이제 숨을 곳이 필요해\n",
      "Oh, I believe in yesterday. 오, 나는 어제를 다시 그리게 돼.\n",
      "Mm mm mm mm mm mm mm mm mm mm mm mm mm\n"
     ]
    }
   ],
   "source": [
    "from requests import Request, Session\n",
    "\n",
    "client_id = \"o5qlaJh_eN0fXlKWenxS\" # 개발자센터에서 발급받은 Client ID 값\n",
    "client_secret = \"P2Qz1hx2Gy\" # 개발자센터에서 발급받은 Client Secret 값\n",
    "url = \"https://openapi.naver.com/v1/papago/n2mt\"\n",
    "\n",
    "def getText():\n",
    "    with open('./data/yesterday.txt', 'r', encoding='utf-8') as file:\n",
    "        lyrics_txt = file.readlines()\n",
    "    return lyrics_txt\n",
    "\n",
    "def save_file(my_list):\n",
    "    with open('./data/yesterday_trans.txt', 'w', encoding='utf-8') as file:\n",
    "          file.writelines(my_list)\n",
    "\n",
    "def main():\n",
    "\n",
    "    session =Session()\n",
    "\n",
    "    req_header = {\"X-Naver-Client-Id\" : client_id, \"X-Naver-Client-Secret\" : client_secret}\n",
    "    req_param = {\"source\" : \"en\", \"target\" : \"ko\"}\n",
    "\n",
    "    result_list =[]\n",
    "    sourceText = getText()\n",
    "    for line in sourceText:\n",
    "        if line != '\\n':\n",
    "            req_param[\"text\"]=line.strip('\\n')\n",
    "            req = Request('POST', url, headers = req_header, data=req_param)\n",
    "            prepepped = req.prepare()\n",
    "            res = session.send(prepepped)\n",
    "\n",
    "            if res.ok:\n",
    "                trans_text = res.json()['message']['result']['translatedText']\n",
    "                result_list.append(req_param[\"text\"] + \"\\n\")\n",
    "                result_list.append(trans_text + \"\\n\")\n",
    "                print(req_param[\"text\"],trans_text)\n",
    "            else:\n",
    "                print('Error Code ' , res.status_code)\n",
    "    save_file(result_list)\n",
    "main()"
   ]
  },
  {
   "cell_type": "code",
   "execution_count": null,
   "id": "5a948c88",
   "metadata": {
    "collapsed": false,
    "jupyter": {
     "outputs_hidden": false
    },
    "pycharm": {
     "name": "#%%\n"
    }
   },
   "outputs": [],
   "source": []
  }
 ],
 "metadata": {
  "kernelspec": {
   "display_name": "Python 3 (ipykernel)",
   "language": "python",
   "name": "python3"
  },
  "language_info": {
   "codemirror_mode": {
    "name": "ipython",
    "version": 3
   },
   "file_extension": ".py",
   "mimetype": "text/x-python",
   "name": "python",
   "nbconvert_exporter": "python",
   "pygments_lexer": "ipython3",
   "version": "3.9.7"
  }
 },
 "nbformat": 4,
 "nbformat_minor": 5
}
