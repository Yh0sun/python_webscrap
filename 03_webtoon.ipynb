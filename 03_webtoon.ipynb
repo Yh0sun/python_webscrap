{
 "cells": [
  {
   "cell_type": "markdown",
   "id": "facb2602-2d20-44f7-8edc-ff677326fd0d",
   "metadata": {},
   "source": [
    "### 웹툰 이미지를 다운로드하여 로컬에 저장하기"
   ]
  },
  {
   "cell_type": "code",
   "execution_count": 17,
   "id": "44514fe5-3ceb-4bdf-86a7-e6c46e71d0ac",
   "metadata": {},
   "outputs": [
    {
     "name": "stdout",
     "output_type": "stream",
     "text": [
      "200\n",
      "write to file data/20220106144816_0f69de276fca4a9e6ff0d7490f55b315_IMAG01_2.jpg(179361bytes\n",
      "200\n",
      "write to file data/20220106144816_0f69de276fca4a9e6ff0d7490f55b315_IMAG01_1.jpg(135069bytes\n",
      "200\n",
      "write to file data/20220106144816_0f69de276fca4a9e6ff0d7490f55b315_IMAG01_3.jpg(159960bytes\n"
     ]
    }
   ],
   "source": [
    "import requests\n",
    "import os\n",
    "\n",
    "req_header = {\n",
    "    'referer' : 'https://comic.naver.com/webtoon/detail?titleId=753478&no=73&weekday=fri'\n",
    "}\n",
    "\n",
    "img_url_list = {\n",
    "    'https://image-comic.pstatic.net/webtoon/753478/73/20220106144816_0f69de276fca4a9e6ff0d7490f55b315_IMAG01_1.jpg',\n",
    "    'https://image-comic.pstatic.net/webtoon/753478/73/20220106144816_0f69de276fca4a9e6ff0d7490f55b315_IMAG01_2.jpg',\n",
    "    'https://image-comic.pstatic.net/webtoon/753478/73/20220106144816_0f69de276fca4a9e6ff0d7490f55b315_IMAG01_3.jpg'\n",
    "}\n",
    "for img_url in img_url_list:\n",
    "    res = requests.get(img_url,headers = req_header)\n",
    "    print(res.status_code)\n",
    "    \n",
    "    img_data = res.content\n",
    "    fileName = os.path.basename(img_url)\n",
    "    fileName = 'data/'+fileName\n",
    "    with open(fileName, 'wb') as file:\n",
    "        print(f'write to file {fileName}({len(img_data)}bytes')\n",
    "        file.write(img_data)\n",
    "          "
   ]
  },
  {
   "cell_type": "markdown",
   "id": "576ad229-b93c-441a-9d5e-e1c4ca314abb",
   "metadata": {},
   "source": [
    "### 웹툰의 특정회차의 모든 image 다운로드 하기\n",
    "* Attribute Selector 를 사용하여 jpg파일명을 모두 추출하고 리스트에 저장하기\n",
    "* 리스트를 순회하면서 image다운받기"
   ]
  },
  {
   "cell_type": "code",
   "execution_count": 25,
   "id": "00ad33e7-fa73-4c8e-a1fd-62f9217a1641",
   "metadata": {},
   "outputs": [
    {
     "name": "stdout",
     "output_type": "stream",
     "text": [
      "72 <class 'bs4.element.ResultSet'>\n",
      "72\n",
      "['https://shared-comic.pstatic.net/thumb/webtoon/764040/thumbnail/thumbnail_IMAG04_8afc9026-2558-49e9-b675-93381d9ef009.jpg', 'https://image-comic.pstatic.net/webtoon/764040/54/20220127142619_b148e6dfbf0f74b0c384744f9e46035c_IMAG01_1.jpg', 'https://image-comic.pstatic.net/webtoon/764040/54/20220127142619_b148e6dfbf0f74b0c384744f9e46035c_IMAG01_2.jpg', 'https://image-comic.pstatic.net/webtoon/764040/54/20220127142619_b148e6dfbf0f74b0c384744f9e46035c_IMAG01_3.jpg', 'https://image-comic.pstatic.net/webtoon/764040/54/20220127142619_b148e6dfbf0f74b0c384744f9e46035c_IMAG01_4.jpg', 'https://image-comic.pstatic.net/webtoon/764040/54/20220127142619_b148e6dfbf0f74b0c384744f9e46035c_IMAG01_5.jpg', 'https://image-comic.pstatic.net/webtoon/764040/54/20220127142619_b148e6dfbf0f74b0c384744f9e46035c_IMAG01_6.jpg', 'https://image-comic.pstatic.net/webtoon/764040/54/20220127142619_b148e6dfbf0f74b0c384744f9e46035c_IMAG01_7.jpg', 'https://image-comic.pstatic.net/webtoon/764040/54/20220127142619_b148e6dfbf0f74b0c384744f9e46035c_IMAG01_8.jpg', 'https://image-comic.pstatic.net/webtoon/764040/54/20220127142619_b148e6dfbf0f74b0c384744f9e46035c_IMAG01_9.jpg', 'https://image-comic.pstatic.net/webtoon/764040/54/20220127142619_b148e6dfbf0f74b0c384744f9e46035c_IMAG01_10.jpg', 'https://image-comic.pstatic.net/webtoon/764040/54/20220127142619_b148e6dfbf0f74b0c384744f9e46035c_IMAG01_11.jpg', 'https://image-comic.pstatic.net/webtoon/764040/54/20220127142619_b148e6dfbf0f74b0c384744f9e46035c_IMAG01_12.jpg', 'https://image-comic.pstatic.net/webtoon/764040/54/20220127142619_b148e6dfbf0f74b0c384744f9e46035c_IMAG01_13.jpg', 'https://image-comic.pstatic.net/webtoon/764040/54/20220127142619_b148e6dfbf0f74b0c384744f9e46035c_IMAG01_14.jpg', 'https://image-comic.pstatic.net/webtoon/764040/54/20220127142619_b148e6dfbf0f74b0c384744f9e46035c_IMAG01_15.jpg', 'https://image-comic.pstatic.net/webtoon/764040/54/20220127142619_b148e6dfbf0f74b0c384744f9e46035c_IMAG01_16.jpg', 'https://image-comic.pstatic.net/webtoon/764040/54/20220127142619_b148e6dfbf0f74b0c384744f9e46035c_IMAG01_17.jpg', 'https://image-comic.pstatic.net/webtoon/764040/54/20220127142619_b148e6dfbf0f74b0c384744f9e46035c_IMAG01_18.jpg', 'https://image-comic.pstatic.net/webtoon/764040/54/20220127142619_b148e6dfbf0f74b0c384744f9e46035c_IMAG01_19.jpg', 'https://image-comic.pstatic.net/webtoon/764040/54/20220127142619_b148e6dfbf0f74b0c384744f9e46035c_IMAG01_20.jpg', 'https://image-comic.pstatic.net/webtoon/764040/54/20220127142619_b148e6dfbf0f74b0c384744f9e46035c_IMAG01_21.jpg', 'https://image-comic.pstatic.net/webtoon/764040/54/20220127142619_b148e6dfbf0f74b0c384744f9e46035c_IMAG01_22.jpg', 'https://image-comic.pstatic.net/webtoon/764040/54/20220127142619_b148e6dfbf0f74b0c384744f9e46035c_IMAG01_23.jpg', 'https://image-comic.pstatic.net/webtoon/764040/54/20220127142619_b148e6dfbf0f74b0c384744f9e46035c_IMAG01_24.jpg', 'https://image-comic.pstatic.net/webtoon/764040/54/20220127142619_b148e6dfbf0f74b0c384744f9e46035c_IMAG01_25.jpg', 'https://image-comic.pstatic.net/webtoon/764040/54/20220127142619_b148e6dfbf0f74b0c384744f9e46035c_IMAG01_26.jpg', 'https://image-comic.pstatic.net/webtoon/764040/54/20220127142619_b148e6dfbf0f74b0c384744f9e46035c_IMAG01_27.jpg', 'https://image-comic.pstatic.net/webtoon/764040/54/20220127142619_b148e6dfbf0f74b0c384744f9e46035c_IMAG01_28.jpg', 'https://image-comic.pstatic.net/webtoon/764040/54/20220127142619_b148e6dfbf0f74b0c384744f9e46035c_IMAG01_29.jpg', 'https://image-comic.pstatic.net/webtoon/764040/54/20220127142619_b148e6dfbf0f74b0c384744f9e46035c_IMAG01_30.jpg', 'https://image-comic.pstatic.net/webtoon/764040/54/20220127142619_b148e6dfbf0f74b0c384744f9e46035c_IMAG01_31.jpg', 'https://image-comic.pstatic.net/webtoon/764040/54/20220127142619_b148e6dfbf0f74b0c384744f9e46035c_IMAG01_32.jpg', 'https://image-comic.pstatic.net/webtoon/764040/54/20220127142619_b148e6dfbf0f74b0c384744f9e46035c_IMAG01_33.jpg', 'https://image-comic.pstatic.net/webtoon/764040/54/20220127142619_b148e6dfbf0f74b0c384744f9e46035c_IMAG01_34.jpg', 'https://image-comic.pstatic.net/webtoon/764040/54/20220127142619_b148e6dfbf0f74b0c384744f9e46035c_IMAG01_35.jpg', 'https://image-comic.pstatic.net/webtoon/764040/54/20220127142619_b148e6dfbf0f74b0c384744f9e46035c_IMAG01_36.jpg', 'https://image-comic.pstatic.net/webtoon/764040/54/20220127142619_b148e6dfbf0f74b0c384744f9e46035c_IMAG01_37.jpg', 'https://image-comic.pstatic.net/webtoon/764040/54/20220127142619_b148e6dfbf0f74b0c384744f9e46035c_IMAG01_38.jpg', 'https://image-comic.pstatic.net/webtoon/764040/54/20220127142619_b148e6dfbf0f74b0c384744f9e46035c_IMAG01_39.jpg', 'https://image-comic.pstatic.net/webtoon/764040/54/20220127142619_b148e6dfbf0f74b0c384744f9e46035c_IMAG01_40.jpg', 'https://image-comic.pstatic.net/webtoon/764040/54/20220127142619_b148e6dfbf0f74b0c384744f9e46035c_IMAG01_41.jpg', 'https://image-comic.pstatic.net/webtoon/764040/54/20220127142619_b148e6dfbf0f74b0c384744f9e46035c_IMAG01_42.jpg', 'https://image-comic.pstatic.net/webtoon/764040/54/20220127142619_b148e6dfbf0f74b0c384744f9e46035c_IMAG01_43.jpg', 'https://image-comic.pstatic.net/webtoon/764040/54/20220127142619_b148e6dfbf0f74b0c384744f9e46035c_IMAG01_44.jpg', 'https://image-comic.pstatic.net/webtoon/764040/54/20220127142619_b148e6dfbf0f74b0c384744f9e46035c_IMAG01_45.jpg', 'https://image-comic.pstatic.net/webtoon/764040/54/20220127142619_b148e6dfbf0f74b0c384744f9e46035c_IMAG01_46.jpg', 'https://image-comic.pstatic.net/webtoon/764040/54/20220127142619_b148e6dfbf0f74b0c384744f9e46035c_IMAG01_47.jpg', 'https://image-comic.pstatic.net/webtoon/764040/54/20220127142619_b148e6dfbf0f74b0c384744f9e46035c_IMAG01_48.jpg', 'https://image-comic.pstatic.net/webtoon/764040/54/20220127142619_b148e6dfbf0f74b0c384744f9e46035c_IMAG01_49.jpg', 'https://image-comic.pstatic.net/webtoon/764040/54/20220127142619_b148e6dfbf0f74b0c384744f9e46035c_IMAG01_50.jpg', 'https://image-comic.pstatic.net/webtoon/764040/54/20220127142619_b148e6dfbf0f74b0c384744f9e46035c_IMAG01_51.jpg', 'https://image-comic.pstatic.net/webtoon/764040/54/20220127142619_b148e6dfbf0f74b0c384744f9e46035c_IMAG01_52.jpg', 'https://image-comic.pstatic.net/webtoon/764040/54/20220127142619_b148e6dfbf0f74b0c384744f9e46035c_IMAG01_53.jpg', 'https://image-comic.pstatic.net/webtoon/764040/54/20220127142619_b148e6dfbf0f74b0c384744f9e46035c_IMAG01_54.jpg', 'https://image-comic.pstatic.net/webtoon/764040/54/20220127142619_b148e6dfbf0f74b0c384744f9e46035c_IMAG01_55.jpg', 'https://image-comic.pstatic.net/webtoon/764040/54/20220127142619_b148e6dfbf0f74b0c384744f9e46035c_IMAG01_56.jpg', 'https://image-comic.pstatic.net/webtoon/764040/54/20220127142619_b148e6dfbf0f74b0c384744f9e46035c_IMAG01_57.jpg', 'https://image-comic.pstatic.net/webtoon/764040/54/20220127142619_b148e6dfbf0f74b0c384744f9e46035c_IMAG01_58.jpg', 'https://image-comic.pstatic.net/webtoon/764040/54/20220127142619_b148e6dfbf0f74b0c384744f9e46035c_IMAG01_59.jpg', 'https://image-comic.pstatic.net/webtoon/764040/54/20220127142619_b148e6dfbf0f74b0c384744f9e46035c_IMAG01_60.jpg', 'https://image-comic.pstatic.net/webtoon/764040/54/20220127142619_b148e6dfbf0f74b0c384744f9e46035c_IMAG01_61.jpg', 'https://image-comic.pstatic.net/webtoon/764040/54/20220127142619_b148e6dfbf0f74b0c384744f9e46035c_IMAG01_62.jpg', 'https://image-comic.pstatic.net/webtoon/764040/54/20220127142619_b148e6dfbf0f74b0c384744f9e46035c_IMAG01_63.jpg', 'https://image-comic.pstatic.net/webtoon/764040/54/20220127142619_b148e6dfbf0f74b0c384744f9e46035c_IMAG01_64.jpg', 'https://image-comic.pstatic.net/webtoon/764040/54/20220127142619_b148e6dfbf0f74b0c384744f9e46035c_IMAG01_65.jpg', 'https://image-comic.pstatic.net/webtoon/764040/54/20220127142619_b148e6dfbf0f74b0c384744f9e46035c_IMAG01_66.jpg', 'https://shared-comic.pstatic.net/thumb/webtoon/764040/51/thumbnail_202x120_fc1fca54-42d3-4572-82cf-da5816f13dbc.jpg', 'https://shared-comic.pstatic.net/thumb/webtoon/764040/52/thumbnail_202x120_b3872c73-3774-4d0c-a1b8-e82f60b6f0ec.jpg', 'https://shared-comic.pstatic.net/thumb/webtoon/764040/53/thumbnail_202x120_ff6a8084-6c31-4960-82de-6596e8d247fa.jpg', 'https://shared-comic.pstatic.net/thumb/webtoon/764040/54/thumbnail_202x120_77463e47-08d8-4e8b-912e-5c29fee372ea.jpg', 'https://shared-comic.pstatic.net/thumb/webtoon/737836/thumbnail/thumbnail_IMAG10_46052d6c-517d-4231-96a4-f2d83a71c436.jpg']\n"
     ]
    }
   ],
   "source": [
    "import requests\n",
    "from bs4 import BeautifulSoup\n",
    "\n",
    "main_url = 'https://comic.naver.com/webtoon/detail?titleId=764040&no=54&weekday=fri'\n",
    "res = requests.get(main_url)\n",
    "\n",
    "if res.ok:\n",
    "    soup = BeautifulSoup(res.text, 'html.parser')\n",
    "    img_tag = soup.select(\"img[src$='.jpg']\")\n",
    "    print(len(img_tag), type(img_tag))\n",
    "    \n",
    "    img_url_list = []\n",
    "    for img_tag in img_tag:\n",
    "        # print(type(img_tag),img_tag)\n",
    "        img_url = img_tag['src']\n",
    "        img_url_list.append(img_url)\n",
    "\n",
    "print(len(img_url_list))\n",
    "print(img_url_list)\n",
    "    "
   ]
  },
  {
   "cell_type": "markdown",
   "id": "fd67e4c6-9802-4bbc-a55e-7cb55398d253",
   "metadata": {},
   "source": [
    "### 디렉토리 생성하는 2가지 함수\n",
    "- os.makedir()/os.makedirs()\n",
    "- os.makedir() 한개의폴더만"
   ]
  },
  {
   "cell_type": "code",
   "execution_count": 26,
   "id": "c6791c5f-8551-41e3-b82e-4607f2028bc5",
   "metadata": {},
   "outputs": [],
   "source": [
    "# img 디렉토리 생성하기\n",
    "\n",
    "import os\n",
    "\n",
    "\n",
    "dir_path = 'img'\n",
    "\n",
    "# img디렉토리가 없으면\n",
    "if not os.path.isdir(dir_path):\n",
    "    os.makedir(dir_path)"
   ]
  },
  {
   "cell_type": "code",
   "execution_count": 29,
   "id": "b45107c4-6f3f-4d24-84de-d579b390d617",
   "metadata": {},
   "outputs": [
    {
     "name": "stdout",
     "output_type": "stream",
     "text": [
      "다운로드 번호 1 url https://shared-comic.pstatic.net/thumb/webtoon/764040/thumbnail/thumbnail_IMAG04_8afc9026-2558-49e9-b675-93381d9ef009.jpg\n",
      "다운로드 번호 2 url https://image-comic.pstatic.net/webtoon/764040/54/20220127142619_b148e6dfbf0f74b0c384744f9e46035c_IMAG01_1.jpg\n",
      "다운로드 번호 3 url https://image-comic.pstatic.net/webtoon/764040/54/20220127142619_b148e6dfbf0f74b0c384744f9e46035c_IMAG01_2.jpg\n",
      "다운로드 번호 4 url https://image-comic.pstatic.net/webtoon/764040/54/20220127142619_b148e6dfbf0f74b0c384744f9e46035c_IMAG01_3.jpg\n",
      "다운로드 번호 5 url https://image-comic.pstatic.net/webtoon/764040/54/20220127142619_b148e6dfbf0f74b0c384744f9e46035c_IMAG01_4.jpg\n",
      "다운로드 번호 6 url https://image-comic.pstatic.net/webtoon/764040/54/20220127142619_b148e6dfbf0f74b0c384744f9e46035c_IMAG01_5.jpg\n",
      "다운로드 번호 7 url https://image-comic.pstatic.net/webtoon/764040/54/20220127142619_b148e6dfbf0f74b0c384744f9e46035c_IMAG01_6.jpg\n",
      "다운로드 번호 8 url https://image-comic.pstatic.net/webtoon/764040/54/20220127142619_b148e6dfbf0f74b0c384744f9e46035c_IMAG01_7.jpg\n",
      "다운로드 번호 9 url https://image-comic.pstatic.net/webtoon/764040/54/20220127142619_b148e6dfbf0f74b0c384744f9e46035c_IMAG01_8.jpg\n",
      "다운로드 번호 10 url https://image-comic.pstatic.net/webtoon/764040/54/20220127142619_b148e6dfbf0f74b0c384744f9e46035c_IMAG01_9.jpg\n",
      "다운로드 번호 11 url https://image-comic.pstatic.net/webtoon/764040/54/20220127142619_b148e6dfbf0f74b0c384744f9e46035c_IMAG01_10.jpg\n",
      "다운로드 번호 12 url https://image-comic.pstatic.net/webtoon/764040/54/20220127142619_b148e6dfbf0f74b0c384744f9e46035c_IMAG01_11.jpg\n",
      "다운로드 번호 13 url https://image-comic.pstatic.net/webtoon/764040/54/20220127142619_b148e6dfbf0f74b0c384744f9e46035c_IMAG01_12.jpg\n",
      "다운로드 번호 14 url https://image-comic.pstatic.net/webtoon/764040/54/20220127142619_b148e6dfbf0f74b0c384744f9e46035c_IMAG01_13.jpg\n",
      "다운로드 번호 15 url https://image-comic.pstatic.net/webtoon/764040/54/20220127142619_b148e6dfbf0f74b0c384744f9e46035c_IMAG01_14.jpg\n",
      "다운로드 번호 16 url https://image-comic.pstatic.net/webtoon/764040/54/20220127142619_b148e6dfbf0f74b0c384744f9e46035c_IMAG01_15.jpg\n",
      "다운로드 번호 17 url https://image-comic.pstatic.net/webtoon/764040/54/20220127142619_b148e6dfbf0f74b0c384744f9e46035c_IMAG01_16.jpg\n",
      "다운로드 번호 18 url https://image-comic.pstatic.net/webtoon/764040/54/20220127142619_b148e6dfbf0f74b0c384744f9e46035c_IMAG01_17.jpg\n",
      "다운로드 번호 19 url https://image-comic.pstatic.net/webtoon/764040/54/20220127142619_b148e6dfbf0f74b0c384744f9e46035c_IMAG01_18.jpg\n",
      "다운로드 번호 20 url https://image-comic.pstatic.net/webtoon/764040/54/20220127142619_b148e6dfbf0f74b0c384744f9e46035c_IMAG01_19.jpg\n",
      "다운로드 번호 21 url https://image-comic.pstatic.net/webtoon/764040/54/20220127142619_b148e6dfbf0f74b0c384744f9e46035c_IMAG01_20.jpg\n",
      "다운로드 번호 22 url https://image-comic.pstatic.net/webtoon/764040/54/20220127142619_b148e6dfbf0f74b0c384744f9e46035c_IMAG01_21.jpg\n",
      "다운로드 번호 23 url https://image-comic.pstatic.net/webtoon/764040/54/20220127142619_b148e6dfbf0f74b0c384744f9e46035c_IMAG01_22.jpg\n",
      "다운로드 번호 24 url https://image-comic.pstatic.net/webtoon/764040/54/20220127142619_b148e6dfbf0f74b0c384744f9e46035c_IMAG01_23.jpg\n",
      "다운로드 번호 25 url https://image-comic.pstatic.net/webtoon/764040/54/20220127142619_b148e6dfbf0f74b0c384744f9e46035c_IMAG01_24.jpg\n",
      "다운로드 번호 26 url https://image-comic.pstatic.net/webtoon/764040/54/20220127142619_b148e6dfbf0f74b0c384744f9e46035c_IMAG01_25.jpg\n",
      "다운로드 번호 27 url https://image-comic.pstatic.net/webtoon/764040/54/20220127142619_b148e6dfbf0f74b0c384744f9e46035c_IMAG01_26.jpg\n",
      "다운로드 번호 28 url https://image-comic.pstatic.net/webtoon/764040/54/20220127142619_b148e6dfbf0f74b0c384744f9e46035c_IMAG01_27.jpg\n",
      "다운로드 번호 29 url https://image-comic.pstatic.net/webtoon/764040/54/20220127142619_b148e6dfbf0f74b0c384744f9e46035c_IMAG01_28.jpg\n",
      "다운로드 번호 30 url https://image-comic.pstatic.net/webtoon/764040/54/20220127142619_b148e6dfbf0f74b0c384744f9e46035c_IMAG01_29.jpg\n",
      "다운로드 번호 31 url https://image-comic.pstatic.net/webtoon/764040/54/20220127142619_b148e6dfbf0f74b0c384744f9e46035c_IMAG01_30.jpg\n",
      "다운로드 번호 32 url https://image-comic.pstatic.net/webtoon/764040/54/20220127142619_b148e6dfbf0f74b0c384744f9e46035c_IMAG01_31.jpg\n",
      "다운로드 번호 33 url https://image-comic.pstatic.net/webtoon/764040/54/20220127142619_b148e6dfbf0f74b0c384744f9e46035c_IMAG01_32.jpg\n",
      "다운로드 번호 34 url https://image-comic.pstatic.net/webtoon/764040/54/20220127142619_b148e6dfbf0f74b0c384744f9e46035c_IMAG01_33.jpg\n",
      "다운로드 번호 35 url https://image-comic.pstatic.net/webtoon/764040/54/20220127142619_b148e6dfbf0f74b0c384744f9e46035c_IMAG01_34.jpg\n",
      "다운로드 번호 36 url https://image-comic.pstatic.net/webtoon/764040/54/20220127142619_b148e6dfbf0f74b0c384744f9e46035c_IMAG01_35.jpg\n",
      "다운로드 번호 37 url https://image-comic.pstatic.net/webtoon/764040/54/20220127142619_b148e6dfbf0f74b0c384744f9e46035c_IMAG01_36.jpg\n",
      "다운로드 번호 38 url https://image-comic.pstatic.net/webtoon/764040/54/20220127142619_b148e6dfbf0f74b0c384744f9e46035c_IMAG01_37.jpg\n",
      "다운로드 번호 39 url https://image-comic.pstatic.net/webtoon/764040/54/20220127142619_b148e6dfbf0f74b0c384744f9e46035c_IMAG01_38.jpg\n",
      "다운로드 번호 40 url https://image-comic.pstatic.net/webtoon/764040/54/20220127142619_b148e6dfbf0f74b0c384744f9e46035c_IMAG01_39.jpg\n",
      "다운로드 번호 41 url https://image-comic.pstatic.net/webtoon/764040/54/20220127142619_b148e6dfbf0f74b0c384744f9e46035c_IMAG01_40.jpg\n",
      "다운로드 번호 42 url https://image-comic.pstatic.net/webtoon/764040/54/20220127142619_b148e6dfbf0f74b0c384744f9e46035c_IMAG01_41.jpg\n",
      "다운로드 번호 43 url https://image-comic.pstatic.net/webtoon/764040/54/20220127142619_b148e6dfbf0f74b0c384744f9e46035c_IMAG01_42.jpg\n",
      "다운로드 번호 44 url https://image-comic.pstatic.net/webtoon/764040/54/20220127142619_b148e6dfbf0f74b0c384744f9e46035c_IMAG01_43.jpg\n",
      "다운로드 번호 45 url https://image-comic.pstatic.net/webtoon/764040/54/20220127142619_b148e6dfbf0f74b0c384744f9e46035c_IMAG01_44.jpg\n",
      "다운로드 번호 46 url https://image-comic.pstatic.net/webtoon/764040/54/20220127142619_b148e6dfbf0f74b0c384744f9e46035c_IMAG01_45.jpg\n",
      "다운로드 번호 47 url https://image-comic.pstatic.net/webtoon/764040/54/20220127142619_b148e6dfbf0f74b0c384744f9e46035c_IMAG01_46.jpg\n",
      "다운로드 번호 48 url https://image-comic.pstatic.net/webtoon/764040/54/20220127142619_b148e6dfbf0f74b0c384744f9e46035c_IMAG01_47.jpg\n",
      "다운로드 번호 49 url https://image-comic.pstatic.net/webtoon/764040/54/20220127142619_b148e6dfbf0f74b0c384744f9e46035c_IMAG01_48.jpg\n",
      "다운로드 번호 50 url https://image-comic.pstatic.net/webtoon/764040/54/20220127142619_b148e6dfbf0f74b0c384744f9e46035c_IMAG01_49.jpg\n",
      "다운로드 번호 51 url https://image-comic.pstatic.net/webtoon/764040/54/20220127142619_b148e6dfbf0f74b0c384744f9e46035c_IMAG01_50.jpg\n",
      "다운로드 번호 52 url https://image-comic.pstatic.net/webtoon/764040/54/20220127142619_b148e6dfbf0f74b0c384744f9e46035c_IMAG01_51.jpg\n",
      "다운로드 번호 53 url https://image-comic.pstatic.net/webtoon/764040/54/20220127142619_b148e6dfbf0f74b0c384744f9e46035c_IMAG01_52.jpg\n",
      "다운로드 번호 54 url https://image-comic.pstatic.net/webtoon/764040/54/20220127142619_b148e6dfbf0f74b0c384744f9e46035c_IMAG01_53.jpg\n",
      "다운로드 번호 55 url https://image-comic.pstatic.net/webtoon/764040/54/20220127142619_b148e6dfbf0f74b0c384744f9e46035c_IMAG01_54.jpg\n",
      "다운로드 번호 56 url https://image-comic.pstatic.net/webtoon/764040/54/20220127142619_b148e6dfbf0f74b0c384744f9e46035c_IMAG01_55.jpg\n",
      "다운로드 번호 57 url https://image-comic.pstatic.net/webtoon/764040/54/20220127142619_b148e6dfbf0f74b0c384744f9e46035c_IMAG01_56.jpg\n",
      "다운로드 번호 58 url https://image-comic.pstatic.net/webtoon/764040/54/20220127142619_b148e6dfbf0f74b0c384744f9e46035c_IMAG01_57.jpg\n",
      "다운로드 번호 59 url https://image-comic.pstatic.net/webtoon/764040/54/20220127142619_b148e6dfbf0f74b0c384744f9e46035c_IMAG01_58.jpg\n",
      "다운로드 번호 60 url https://image-comic.pstatic.net/webtoon/764040/54/20220127142619_b148e6dfbf0f74b0c384744f9e46035c_IMAG01_59.jpg\n",
      "다운로드 번호 61 url https://image-comic.pstatic.net/webtoon/764040/54/20220127142619_b148e6dfbf0f74b0c384744f9e46035c_IMAG01_60.jpg\n",
      "다운로드 번호 62 url https://image-comic.pstatic.net/webtoon/764040/54/20220127142619_b148e6dfbf0f74b0c384744f9e46035c_IMAG01_61.jpg\n",
      "다운로드 번호 63 url https://image-comic.pstatic.net/webtoon/764040/54/20220127142619_b148e6dfbf0f74b0c384744f9e46035c_IMAG01_62.jpg\n",
      "다운로드 번호 64 url https://image-comic.pstatic.net/webtoon/764040/54/20220127142619_b148e6dfbf0f74b0c384744f9e46035c_IMAG01_63.jpg\n",
      "다운로드 번호 65 url https://image-comic.pstatic.net/webtoon/764040/54/20220127142619_b148e6dfbf0f74b0c384744f9e46035c_IMAG01_64.jpg\n",
      "다운로드 번호 66 url https://image-comic.pstatic.net/webtoon/764040/54/20220127142619_b148e6dfbf0f74b0c384744f9e46035c_IMAG01_65.jpg\n",
      "다운로드 번호 67 url https://image-comic.pstatic.net/webtoon/764040/54/20220127142619_b148e6dfbf0f74b0c384744f9e46035c_IMAG01_66.jpg\n",
      "다운로드 번호 68 url https://shared-comic.pstatic.net/thumb/webtoon/764040/51/thumbnail_202x120_fc1fca54-42d3-4572-82cf-da5816f13dbc.jpg\n",
      "다운로드 번호 69 url https://shared-comic.pstatic.net/thumb/webtoon/764040/52/thumbnail_202x120_b3872c73-3774-4d0c-a1b8-e82f60b6f0ec.jpg\n",
      "다운로드 번호 70 url https://shared-comic.pstatic.net/thumb/webtoon/764040/53/thumbnail_202x120_ff6a8084-6c31-4960-82de-6596e8d247fa.jpg\n",
      "다운로드 번호 71 url https://shared-comic.pstatic.net/thumb/webtoon/764040/54/thumbnail_202x120_77463e47-08d8-4e8b-912e-5c29fee372ea.jpg\n",
      "다운로드 번호 72 url https://shared-comic.pstatic.net/thumb/webtoon/737836/thumbnail/thumbnail_IMAG10_46052d6c-517d-4231-96a4-f2d83a71c436.jpg\n"
     ]
    }
   ],
   "source": [
    "#리스트를 순회하면서 image다운받기\n",
    "\n",
    "for idx, img_url in enumerate(img_url_list,1):\n",
    "    print(f'다운로드 번호 {idx} url {img_url}')\n",
    "    req_header = {'referer' : main_url}\n",
    "    res = requests.get(img_url, headers = req_header)\n",
    "    if res.ok:\n",
    "        img_data = res.content\n",
    "        file_name = os.path.basename(img_url)\n",
    "        file_name = 'img/'+file_name\n",
    "        with open(file_name, 'wb') as file:\n",
    "            file.write(img_data)"
   ]
  },
  {
   "cell_type": "code",
   "execution_count": 31,
   "id": "56b5f4cf-a16f-40fc-8fbb-7538af7c5f38",
   "metadata": {},
   "outputs": [],
   "source": [
    "import shutil\n",
    "import os\n",
    "\n",
    "dir_path = 'img'\n",
    "\n",
    "if os.path.exists(dir_path):\n",
    "    shutil.rmtree(dir_path)"
   ]
  },
  {
   "cell_type": "markdown",
   "id": "661d572b-78c5-47be-be9a-1c4f522ae543",
   "metadata": {},
   "source": [
    "### 웹툰의 타이틀과 특정회차 url을 아규먼트 받아서 다운로드하는 함수 구하기"
   ]
  },
  {
   "cell_type": "code",
   "execution_count": 57,
   "id": "9382b190-0dae-44aa-820a-84f2aeb081de",
   "metadata": {},
   "outputs": [],
   "source": [
    "def download_image(title, round_url):\n",
    "    import requests\n",
    "    from bs4 import BeautifulSoup\n",
    "    import os\n",
    "    import shutil\n",
    "    \n",
    "    #img 폴더가 있으면 삭제하고\n",
    "    dir_path = 'img'\n",
    "    if os.path.exists(dir_path):\n",
    "        shutil.rmtree(dir_path)\n",
    "    if not os.path.exists(dir_path):\n",
    "        title_path = os.path.join(dir_path, title)\n",
    "        print(title_path)\n",
    "        os.makedirs(title_path)\n",
    "        \n",
    "    # res text - 소스보기 F12\n",
    "    # img url 목록을 알아내기 위한 요청 보내기\n",
    "    res = requests.get(round_url)\n",
    "    if res.ok:\n",
    "        soup = BeautifulSoup(res.text, 'html.parser')\n",
    "        img_tag = soup.select(\"img[src$='.jpg']\")\n",
    "        print(len(img_tag), type(img_tag))\n",
    "        \n",
    "        img_url_list = []\n",
    "        for img_tag in img_tag:\n",
    "            # print(type(img_tag),img_tag)\n",
    "            img_url = img_tag['src']\n",
    "\n",
    "            res_img = requests.get(img_url,headers =req_header)\n",
    "            if res_img.ok:\n",
    "                #image 데이터 가져오기\n",
    "                img_data = res_img.content\n",
    "                file_name = title_path +'\\\\'+ os.path.basename(img_url)\n",
    "            with open(file_name, 'wb') as file:\n",
    "                print(f'{file_name} ({len(img_data)}) byte')\n",
    "                file.write(img_data)\n"
   ]
  },
  {
   "cell_type": "code",
   "execution_count": 58,
   "id": "d82d3ae3-26f6-4403-93e5-94fdaa7e29f4",
   "metadata": {},
   "outputs": [
    {
     "name": "stdout",
     "output_type": "stream",
     "text": [
      "img\\외모지상주의\n",
      "19 <class 'bs4.element.ResultSet'>\n",
      "img\\외모지상주의\\thumbnail_IMAG06_7c62962d-f52d-4757-b640-4d2abcc05b29.jpg (11555) byte\n",
      "img\\외모지상주의\\thumbnail_202x120_51e18012-17a9-4c52-a49d-802263ac3f4b.jpg (9604) byte\n",
      "img\\외모지상주의\\thumbnail_202x120_e93667d3-2410-4b26-b974-0f013ceca2d2.jpg (23222) byte\n",
      "img\\외모지상주의\\thumbnail_202x120_23c9a01a-ee03-48aa-a883-4f64515fb205.jpg (31457) byte\n",
      "img\\외모지상주의\\thumbnail_202x120_cf5cf4ac-d6d6-4cb2-bb8b-d3a4398a4314.jpg (20934) byte\n",
      "img\\외모지상주의\\thumbnail_202x120_4a780a9f-72d2-4ba1-9b9e-33974ac88472.jpg (6389) byte\n",
      "img\\외모지상주의\\thumbnail_202x120_f521fa5e-f35a-4ea2-b861-c6dfd73354d1.jpg (14705) byte\n",
      "img\\외모지상주의\\thumbnail_202x120_47357aba-1428-4a46-aa66-07471b622133.jpg (17589) byte\n",
      "img\\외모지상주의\\thumbnail_202x120_5f3a141f-3a2a-4f13-b2c3-47ee791ee97d.jpg (17613) byte\n",
      "img\\외모지상주의\\thumbnail_202x120_ef1682e0-254e-43f3-90f1-a5fab527739d.jpg (17384) byte\n",
      "img\\외모지상주의\\thumbnail_202x120_0b67531e-1798-41db-92a8-c7197781e884.jpg (18004) byte\n",
      "img\\외모지상주의\\thumbnail_IMAG10_d4d1a799-d193-4e5a-9b46-6dffcead862a.jpg (8325) byte\n",
      "img\\외모지상주의\\thumbnail_IMAG10_47682705-9b27-4d0e-a8dc-33f57dfe8667.jpg (9921) byte\n",
      "img\\외모지상주의\\thumbnail_IMAG10_21a11da4-78cd-4f99-9881-4b7afc51c05e.jpg (8274) byte\n",
      "img\\외모지상주의\\title_thumbnail_20110407182655_t83x90.jpg (12628) byte\n",
      "img\\외모지상주의\\thumbnail_IMAG10_7be4eb2a-35e4-4c0f-ac4f-70cee159ccbd.jpg (10321) byte\n",
      "img\\외모지상주의\\bnr_partnership.jpg (10326) byte\n",
      "img\\외모지상주의\\bnr_joinus.jpg (17502) byte\n",
      "img\\외모지상주의\\bnr_careers.jpg (18455) byte\n"
     ]
    }
   ],
   "source": [
    "download_image('외모지상주의', 'https://comic.naver.com/webtoon/list?titleId=641253&weekday=fri')"
   ]
  },
  {
   "cell_type": "markdown",
   "id": "4ee8e191-f0c1-4fdd-be15-ddac4606435f",
   "metadata": {},
   "source": [
    "## Image File Upload\n",
    "* http://httpbin.org/post URL로 요청을 보내서 다운로드 받은 img 파일을 업로드 하기\n",
    "* requests.post()함수를 사용하고, file속성에 image data를 지정한다.\n",
    "* file-(optional)Directonary of 'filename':file-like-objects for multiple encoding upload."
   ]
  },
  {
   "cell_type": "code",
   "execution_count": 1,
   "id": "48dd6d8a-d92d-4415-a47d-c4e802ffcf2e",
   "metadata": {},
   "outputs": [
    {
     "ename": "TypeError",
     "evalue": "request() got an unexpected keyword argument 'file'",
     "output_type": "error",
     "traceback": [
      "\u001B[1;31m---------------------------------------------------------------------------\u001B[0m",
      "\u001B[1;31mTypeError\u001B[0m                                 Traceback (most recent call last)",
      "\u001B[1;32m~\\AppData\\Local\\Temp/ipykernel_221996/2891285072.py\u001B[0m in \u001B[0;36m<module>\u001B[1;34m\u001B[0m\n\u001B[0;32m      8\u001B[0m \u001B[1;33m\u001B[0m\u001B[0m\n\u001B[0;32m      9\u001B[0m \u001B[0murl\u001B[0m \u001B[1;33m=\u001B[0m \u001B[1;34m'http://httpbin.org/post'\u001B[0m\u001B[1;33m\u001B[0m\u001B[1;33m\u001B[0m\u001B[0m\n\u001B[1;32m---> 10\u001B[1;33m \u001B[0mres\u001B[0m \u001B[1;33m=\u001B[0m \u001B[0mrequests\u001B[0m\u001B[1;33m.\u001B[0m\u001B[0mpost\u001B[0m\u001B[1;33m(\u001B[0m\u001B[0murl\u001B[0m\u001B[1;33m,\u001B[0m \u001B[0mfile\u001B[0m \u001B[1;33m=\u001B[0m \u001B[0mupload_file_dict\u001B[0m\u001B[1;33m)\u001B[0m\u001B[1;33m\u001B[0m\u001B[1;33m\u001B[0m\u001B[0m\n\u001B[0m\u001B[0;32m     11\u001B[0m \u001B[0mprint\u001B[0m\u001B[1;33m(\u001B[0m\u001B[0mres\u001B[0m\u001B[1;33m.\u001B[0m\u001B[0mstatus_code\u001B[0m\u001B[1;33m)\u001B[0m\u001B[1;33m\u001B[0m\u001B[1;33m\u001B[0m\u001B[0m\n\u001B[0;32m     12\u001B[0m \u001B[1;33m\u001B[0m\u001B[0m\n",
      "\u001B[1;32m~\\anaconda3\\lib\\site-packages\\requests\\api.py\u001B[0m in \u001B[0;36mpost\u001B[1;34m(url, data, json, **kwargs)\u001B[0m\n\u001B[0;32m    115\u001B[0m     \"\"\"\n\u001B[0;32m    116\u001B[0m \u001B[1;33m\u001B[0m\u001B[0m\n\u001B[1;32m--> 117\u001B[1;33m     \u001B[1;32mreturn\u001B[0m \u001B[0mrequest\u001B[0m\u001B[1;33m(\u001B[0m\u001B[1;34m'post'\u001B[0m\u001B[1;33m,\u001B[0m \u001B[0murl\u001B[0m\u001B[1;33m,\u001B[0m \u001B[0mdata\u001B[0m\u001B[1;33m=\u001B[0m\u001B[0mdata\u001B[0m\u001B[1;33m,\u001B[0m \u001B[0mjson\u001B[0m\u001B[1;33m=\u001B[0m\u001B[0mjson\u001B[0m\u001B[1;33m,\u001B[0m \u001B[1;33m**\u001B[0m\u001B[0mkwargs\u001B[0m\u001B[1;33m)\u001B[0m\u001B[1;33m\u001B[0m\u001B[1;33m\u001B[0m\u001B[0m\n\u001B[0m\u001B[0;32m    118\u001B[0m \u001B[1;33m\u001B[0m\u001B[0m\n\u001B[0;32m    119\u001B[0m \u001B[1;33m\u001B[0m\u001B[0m\n",
      "\u001B[1;32m~\\anaconda3\\lib\\site-packages\\requests\\api.py\u001B[0m in \u001B[0;36mrequest\u001B[1;34m(method, url, **kwargs)\u001B[0m\n\u001B[0;32m     59\u001B[0m     \u001B[1;31m# cases, and look like a memory leak in others.\u001B[0m\u001B[1;33m\u001B[0m\u001B[1;33m\u001B[0m\u001B[0m\n\u001B[0;32m     60\u001B[0m     \u001B[1;32mwith\u001B[0m \u001B[0msessions\u001B[0m\u001B[1;33m.\u001B[0m\u001B[0mSession\u001B[0m\u001B[1;33m(\u001B[0m\u001B[1;33m)\u001B[0m \u001B[1;32mas\u001B[0m \u001B[0msession\u001B[0m\u001B[1;33m:\u001B[0m\u001B[1;33m\u001B[0m\u001B[1;33m\u001B[0m\u001B[0m\n\u001B[1;32m---> 61\u001B[1;33m         \u001B[1;32mreturn\u001B[0m \u001B[0msession\u001B[0m\u001B[1;33m.\u001B[0m\u001B[0mrequest\u001B[0m\u001B[1;33m(\u001B[0m\u001B[0mmethod\u001B[0m\u001B[1;33m=\u001B[0m\u001B[0mmethod\u001B[0m\u001B[1;33m,\u001B[0m \u001B[0murl\u001B[0m\u001B[1;33m=\u001B[0m\u001B[0murl\u001B[0m\u001B[1;33m,\u001B[0m \u001B[1;33m**\u001B[0m\u001B[0mkwargs\u001B[0m\u001B[1;33m)\u001B[0m\u001B[1;33m\u001B[0m\u001B[1;33m\u001B[0m\u001B[0m\n\u001B[0m\u001B[0;32m     62\u001B[0m \u001B[1;33m\u001B[0m\u001B[0m\n\u001B[0;32m     63\u001B[0m \u001B[1;33m\u001B[0m\u001B[0m\n",
      "\u001B[1;31mTypeError\u001B[0m: request() got an unexpected keyword argument 'file'"
     ]
    }
   ],
   "source": [
    "import requests\n",
    "\n",
    "upload_file_dict = {\n",
    "    'img1' : open('data\\\\f1.jpg','rb'),\n",
    "    'img2' : open('data\\\\f2.jpg','rb'),\n",
    "    'img3' : open('data\\\\f3.jpg','rb'),\n",
    "}\n",
    "\n",
    "url = 'http://httpbin.org/post'\n",
    "res = requests.post(url, file = upload_file_dict)\n",
    "print(res.status_code)"
   ]
  },
  {
   "cell_type": "code",
   "execution_count": 12,
   "outputs": [
    {
     "name": "stdout",
     "output_type": "stream",
     "text": [
      "img\\독립일기\\thumbnail_IMAG06_fa3bf10d-1b8f-40cd-a8eb-01caf9bbc3e4.jpg (9905) byte\n",
      "img\\독립일기\\thumbnail_202x120_0d81306a-5cc2-40cc-95b7-26960d56af21.jpg (26367) byte\n",
      "img\\독립일기\\thumbnail_202x120_60e88c76-8eab-488b-8e85-5f8a98cee8f3.jpg (27661) byte\n",
      "img\\독립일기\\thumbnail_202x120_b3ebf09a-c025-423e-8dfe-852b00f91616.jpg (21009) byte\n",
      "img\\독립일기\\thumbnail_202x120_0b8733fd-f346-4819-93db-9501c5b36d95.jpg (13449) byte\n",
      "img\\독립일기\\thumbnail_202x120_eba13c9e-3648-459b-8556-84ea50892936.jpg (19687) byte\n",
      "img\\독립일기\\thumbnail_202x120_c95ea04c-9f4f-402f-ae88-c5b5891afc2b.jpg (23417) byte\n",
      "img\\독립일기\\thumbnail_202x120_c5cb222e-086e-4d41-99a6-6131a3e06dbf.jpg (17850) byte\n",
      "img\\독립일기\\thumbnail_202x120_a9145bf1-8a2b-45f3-90cd-a62ad6b95c7a.jpg (11585) byte\n",
      "img\\독립일기\\thumbnail_202x120_3bc6f5c9-3ca5-4872-b20b-71da679db2fc.jpg (23730) byte\n",
      "img\\독립일기\\thumbnail_202x120_17f9c9d9-7980-4a32-9f29-5120600e5806.jpg (23228) byte\n",
      "img\\독립일기\\thumbnail_IMAG10_7be4eb2a-35e4-4c0f-ac4f-70cee159ccbd.jpg (10321) byte\n",
      "img\\독립일기\\thumbnail_IMAG10_9a5f99ba-6641-4882-b1f3-8c6b606204be.jpg (13004) byte\n",
      "img\\독립일기\\thumbnail_IMAG10_6917f3d9-c5bb-4bfd-aa04-a288f7b252af.jpg (9831) byte\n",
      "img\\독립일기\\thumbnail_IMAG10_5d9c37e1-54bf-4e5a-87aa-7a0f06d36d66.jpg (7363) byte\n",
      "img\\독립일기\\thumbnail_IMAG10_fa2b1e10-a764-46ba-b4a0-b26ba828827a.jpg (10109) byte\n",
      "img\\독립일기\\bnr_partnership.jpg (10326) byte\n",
      "img\\독립일기\\bnr_joinus.jpg (17502) byte\n",
      "img\\독립일기\\bnr_careers.jpg (18455) byte\n"
     ]
    }
   ],
   "source": [
    "def webtoon_image(title, round_url):\n",
    "    import requests\n",
    "    from bs4 import BeautifulSoup\n",
    "    import os\n",
    "    import shutil\n",
    "\n",
    "    header = { 'referer' : round_url }\n",
    "\n",
    "    path= 'img'\n",
    "    title_path = os.path.join(path, title)\n",
    "    os.makedirs(title_path)\n",
    "\n",
    "    res = requests.get(round_url)\n",
    "    if res.ok:\n",
    "        soup = BeautifulSoup(res.text, 'html.parser')\n",
    "        img_tag = soup.select(\"img[src$='.jpg']\")\n",
    "\n",
    "        img_url_list = []\n",
    "        for img_tag in img_tag:\n",
    "            img_url = img_tag['src']\n",
    "\n",
    "            res_img = requests.get(img_url,headers =header)\n",
    "            if res_img.ok:\n",
    "                #image 데이터 가져오기\n",
    "                img_data = res_img.content\n",
    "                file_name = title_path+'\\\\'+ os.path.basename(img_url)\n",
    "            with open(file_name, 'wb') as file:\n",
    "                print(f'{file_name} ({len(img_data)}) byte')\n",
    "                file.write(img_data)\n",
    "\n",
    "num=input(\"이미지 복사할려는 화는?\")\n",
    "mUrl ='https://comic.naver.com/webtoon/list?titleId=748105&no='+num+'&weekday=thu'\n",
    "\n",
    "webtoon_image('독립일기', mUrl)\n"
   ],
   "metadata": {
    "collapsed": false,
    "pycharm": {
     "name": "#%%\n"
    }
   }
  },
  {
   "cell_type": "code",
   "execution_count": null,
   "outputs": [],
   "source": [],
   "metadata": {
    "collapsed": false,
    "pycharm": {
     "name": "#%%\n"
    }
   }
  }
 ],
 "metadata": {
  "kernelspec": {
   "name": "pycharm-96fd260c",
   "language": "python",
   "display_name": "PyCharm (webscrap_source)"
  },
  "language_info": {
   "codemirror_mode": {
    "name": "ipython",
    "version": 3
   },
   "file_extension": ".py",
   "mimetype": "text/x-python",
   "name": "python",
   "nbconvert_exporter": "python",
   "pygments_lexer": "ipython3",
   "version": "3.9.7"
  }
 },
 "nbformat": 4,
 "nbformat_minor": 5
}